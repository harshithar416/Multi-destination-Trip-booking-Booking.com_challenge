{
  "cells": [
    {
      "cell_type": "code",
      "execution_count": 1,
      "metadata": {
        "id": "l2JMNpezqS_h"
      },
      "outputs": [],
      "source": [
        "# imports\n",
        "import pandas as pd\n",
        "import numpy as np\n",
        "from datetime import datetime\n",
        "from statistics import mode\n",
        "import matplotlib.pyplot as plt\n",
        "import pickle\n",
        "from collections import Counter\n",
        "from scipy import stats\n"
      ]
    },
    {
      "cell_type": "code",
      "execution_count": 2,
      "metadata": {
        "id": "uxY0URZPqS_k"
      },
      "outputs": [],
      "source": [
        "import time\n",
        "import warnings\n",
        "warnings.filterwarnings(\"ignore\")\n",
        "\n"
      ]
    },
    {
      "cell_type": "code",
      "execution_count": 3,
      "metadata": {
        "colab": {
          "base_uri": "https://localhost:8080/"
        },
        "id": "FQ5ORBmHq7JN",
        "outputId": "e75b398f-a0f4-4be3-d700-14762f87d7f3"
      },
      "outputs": [
        {
          "output_type": "stream",
          "name": "stdout",
          "text": [
            "Mounted at /content/drive\n"
          ]
        }
      ],
      "source": [
        "from google.colab import drive\n",
        "drive.mount('/content/drive', force_remount=True)"
      ]
    },
    {
      "cell_type": "code",
      "execution_count": 4,
      "metadata": {
        "id": "DR79SeNYqU0b"
      },
      "outputs": [],
      "source": [
        "import time\n",
        "import warnings\n",
        "warnings.filterwarnings(\"ignore\")\n",
        "path = \"/content/drive/MyDrive/Booking.com_Challenge\""
      ]
    },
    {
      "cell_type": "code",
      "execution_count": 5,
      "metadata": {
        "id": "LXOiujWwqS_l"
      },
      "outputs": [],
      "source": [
        "# load data\n",
        "df = pd.read_csv(path+\"/train_set.csv\")\n"
      ]
    },
    {
      "cell_type": "code",
      "execution_count": 6,
      "metadata": {
        "id": "uxCHQ0xIqS_l",
        "colab": {
          "base_uri": "https://localhost:8080/",
          "height": 206
        },
        "outputId": "733d7317-3158-44be-e3b8-eed5d36b8b01"
      },
      "outputs": [
        {
          "output_type": "execute_result",
          "data": {
            "text/plain": [
              "   user_id     checkin    checkout  city_id device_class  affiliate_id  \\\n",
              "0  1000027  2016-08-13  2016-08-14     8183      desktop          7168   \n",
              "1  1000027  2016-08-14  2016-08-16    15626      desktop          7168   \n",
              "2  1000027  2016-08-16  2016-08-18    60902      desktop          7168   \n",
              "3  1000027  2016-08-18  2016-08-21    30628      desktop           253   \n",
              "4  1000033  2016-04-09  2016-04-11    38677       mobile           359   \n",
              "\n",
              "  booker_country hotel_country   utrip_id  \n",
              "0        Elbonia        Gondal  1000027_1  \n",
              "1        Elbonia        Gondal  1000027_1  \n",
              "2        Elbonia        Gondal  1000027_1  \n",
              "3        Elbonia        Gondal  1000027_1  \n",
              "4         Gondal  Cobra Island  1000033_1  "
            ],
            "text/html": [
              "\n",
              "  <div id=\"df-77cc9078-69ba-491b-89b9-7ce969da528b\">\n",
              "    <div class=\"colab-df-container\">\n",
              "      <div>\n",
              "<style scoped>\n",
              "    .dataframe tbody tr th:only-of-type {\n",
              "        vertical-align: middle;\n",
              "    }\n",
              "\n",
              "    .dataframe tbody tr th {\n",
              "        vertical-align: top;\n",
              "    }\n",
              "\n",
              "    .dataframe thead th {\n",
              "        text-align: right;\n",
              "    }\n",
              "</style>\n",
              "<table border=\"1\" class=\"dataframe\">\n",
              "  <thead>\n",
              "    <tr style=\"text-align: right;\">\n",
              "      <th></th>\n",
              "      <th>user_id</th>\n",
              "      <th>checkin</th>\n",
              "      <th>checkout</th>\n",
              "      <th>city_id</th>\n",
              "      <th>device_class</th>\n",
              "      <th>affiliate_id</th>\n",
              "      <th>booker_country</th>\n",
              "      <th>hotel_country</th>\n",
              "      <th>utrip_id</th>\n",
              "    </tr>\n",
              "  </thead>\n",
              "  <tbody>\n",
              "    <tr>\n",
              "      <th>0</th>\n",
              "      <td>1000027</td>\n",
              "      <td>2016-08-13</td>\n",
              "      <td>2016-08-14</td>\n",
              "      <td>8183</td>\n",
              "      <td>desktop</td>\n",
              "      <td>7168</td>\n",
              "      <td>Elbonia</td>\n",
              "      <td>Gondal</td>\n",
              "      <td>1000027_1</td>\n",
              "    </tr>\n",
              "    <tr>\n",
              "      <th>1</th>\n",
              "      <td>1000027</td>\n",
              "      <td>2016-08-14</td>\n",
              "      <td>2016-08-16</td>\n",
              "      <td>15626</td>\n",
              "      <td>desktop</td>\n",
              "      <td>7168</td>\n",
              "      <td>Elbonia</td>\n",
              "      <td>Gondal</td>\n",
              "      <td>1000027_1</td>\n",
              "    </tr>\n",
              "    <tr>\n",
              "      <th>2</th>\n",
              "      <td>1000027</td>\n",
              "      <td>2016-08-16</td>\n",
              "      <td>2016-08-18</td>\n",
              "      <td>60902</td>\n",
              "      <td>desktop</td>\n",
              "      <td>7168</td>\n",
              "      <td>Elbonia</td>\n",
              "      <td>Gondal</td>\n",
              "      <td>1000027_1</td>\n",
              "    </tr>\n",
              "    <tr>\n",
              "      <th>3</th>\n",
              "      <td>1000027</td>\n",
              "      <td>2016-08-18</td>\n",
              "      <td>2016-08-21</td>\n",
              "      <td>30628</td>\n",
              "      <td>desktop</td>\n",
              "      <td>253</td>\n",
              "      <td>Elbonia</td>\n",
              "      <td>Gondal</td>\n",
              "      <td>1000027_1</td>\n",
              "    </tr>\n",
              "    <tr>\n",
              "      <th>4</th>\n",
              "      <td>1000033</td>\n",
              "      <td>2016-04-09</td>\n",
              "      <td>2016-04-11</td>\n",
              "      <td>38677</td>\n",
              "      <td>mobile</td>\n",
              "      <td>359</td>\n",
              "      <td>Gondal</td>\n",
              "      <td>Cobra Island</td>\n",
              "      <td>1000033_1</td>\n",
              "    </tr>\n",
              "  </tbody>\n",
              "</table>\n",
              "</div>\n",
              "      <button class=\"colab-df-convert\" onclick=\"convertToInteractive('df-77cc9078-69ba-491b-89b9-7ce969da528b')\"\n",
              "              title=\"Convert this dataframe to an interactive table.\"\n",
              "              style=\"display:none;\">\n",
              "        \n",
              "  <svg xmlns=\"http://www.w3.org/2000/svg\" height=\"24px\"viewBox=\"0 0 24 24\"\n",
              "       width=\"24px\">\n",
              "    <path d=\"M0 0h24v24H0V0z\" fill=\"none\"/>\n",
              "    <path d=\"M18.56 5.44l.94 2.06.94-2.06 2.06-.94-2.06-.94-.94-2.06-.94 2.06-2.06.94zm-11 1L8.5 8.5l.94-2.06 2.06-.94-2.06-.94L8.5 2.5l-.94 2.06-2.06.94zm10 10l.94 2.06.94-2.06 2.06-.94-2.06-.94-.94-2.06-.94 2.06-2.06.94z\"/><path d=\"M17.41 7.96l-1.37-1.37c-.4-.4-.92-.59-1.43-.59-.52 0-1.04.2-1.43.59L10.3 9.45l-7.72 7.72c-.78.78-.78 2.05 0 2.83L4 21.41c.39.39.9.59 1.41.59.51 0 1.02-.2 1.41-.59l7.78-7.78 2.81-2.81c.8-.78.8-2.07 0-2.86zM5.41 20L4 18.59l7.72-7.72 1.47 1.35L5.41 20z\"/>\n",
              "  </svg>\n",
              "      </button>\n",
              "      \n",
              "  <style>\n",
              "    .colab-df-container {\n",
              "      display:flex;\n",
              "      flex-wrap:wrap;\n",
              "      gap: 12px;\n",
              "    }\n",
              "\n",
              "    .colab-df-convert {\n",
              "      background-color: #E8F0FE;\n",
              "      border: none;\n",
              "      border-radius: 50%;\n",
              "      cursor: pointer;\n",
              "      display: none;\n",
              "      fill: #1967D2;\n",
              "      height: 32px;\n",
              "      padding: 0 0 0 0;\n",
              "      width: 32px;\n",
              "    }\n",
              "\n",
              "    .colab-df-convert:hover {\n",
              "      background-color: #E2EBFA;\n",
              "      box-shadow: 0px 1px 2px rgba(60, 64, 67, 0.3), 0px 1px 3px 1px rgba(60, 64, 67, 0.15);\n",
              "      fill: #174EA6;\n",
              "    }\n",
              "\n",
              "    [theme=dark] .colab-df-convert {\n",
              "      background-color: #3B4455;\n",
              "      fill: #D2E3FC;\n",
              "    }\n",
              "\n",
              "    [theme=dark] .colab-df-convert:hover {\n",
              "      background-color: #434B5C;\n",
              "      box-shadow: 0px 1px 3px 1px rgba(0, 0, 0, 0.15);\n",
              "      filter: drop-shadow(0px 1px 2px rgba(0, 0, 0, 0.3));\n",
              "      fill: #FFFFFF;\n",
              "    }\n",
              "  </style>\n",
              "\n",
              "      <script>\n",
              "        const buttonEl =\n",
              "          document.querySelector('#df-77cc9078-69ba-491b-89b9-7ce969da528b button.colab-df-convert');\n",
              "        buttonEl.style.display =\n",
              "          google.colab.kernel.accessAllowed ? 'block' : 'none';\n",
              "\n",
              "        async function convertToInteractive(key) {\n",
              "          const element = document.querySelector('#df-77cc9078-69ba-491b-89b9-7ce969da528b');\n",
              "          const dataTable =\n",
              "            await google.colab.kernel.invokeFunction('convertToInteractive',\n",
              "                                                     [key], {});\n",
              "          if (!dataTable) return;\n",
              "\n",
              "          const docLinkHtml = 'Like what you see? Visit the ' +\n",
              "            '<a target=\"_blank\" href=https://colab.research.google.com/notebooks/data_table.ipynb>data table notebook</a>'\n",
              "            + ' to learn more about interactive tables.';\n",
              "          element.innerHTML = '';\n",
              "          dataTable['output_type'] = 'display_data';\n",
              "          await google.colab.output.renderOutput(dataTable, element);\n",
              "          const docLink = document.createElement('div');\n",
              "          docLink.innerHTML = docLinkHtml;\n",
              "          element.appendChild(docLink);\n",
              "        }\n",
              "      </script>\n",
              "    </div>\n",
              "  </div>\n",
              "  "
            ]
          },
          "metadata": {},
          "execution_count": 6
        }
      ],
      "source": [
        "df.head()\n"
      ]
    },
    {
      "cell_type": "code",
      "execution_count": 7,
      "metadata": {
        "id": "FLR5_TLVqS_m"
      },
      "outputs": [],
      "source": [
        "# first columns is a loading mistake, second is irrelevant: we are evaluating trip's tendancies not user's\n",
        "df.drop([\"user_id\", 'affiliate_id', 'device_class'], axis=1, inplace=True)\n"
      ]
    },
    {
      "cell_type": "code",
      "execution_count": 8,
      "metadata": {
        "id": "-Ish6G_4qS_m",
        "colab": {
          "base_uri": "https://localhost:8080/",
          "height": 206
        },
        "outputId": "4a9cab0e-e624-44d2-fd92-cbe9622885d9"
      },
      "outputs": [
        {
          "output_type": "execute_result",
          "data": {
            "text/plain": [
              "      checkin    checkout  city_id booker_country hotel_country   utrip_id\n",
              "0  2016-08-13  2016-08-14     8183        Elbonia        Gondal  1000027_1\n",
              "1  2016-08-14  2016-08-16    15626        Elbonia        Gondal  1000027_1\n",
              "2  2016-08-16  2016-08-18    60902        Elbonia        Gondal  1000027_1\n",
              "3  2016-08-18  2016-08-21    30628        Elbonia        Gondal  1000027_1\n",
              "4  2016-04-09  2016-04-11    38677         Gondal  Cobra Island  1000033_1"
            ],
            "text/html": [
              "\n",
              "  <div id=\"df-2f82e958-bdaf-4acf-bb39-dd4a0994e636\">\n",
              "    <div class=\"colab-df-container\">\n",
              "      <div>\n",
              "<style scoped>\n",
              "    .dataframe tbody tr th:only-of-type {\n",
              "        vertical-align: middle;\n",
              "    }\n",
              "\n",
              "    .dataframe tbody tr th {\n",
              "        vertical-align: top;\n",
              "    }\n",
              "\n",
              "    .dataframe thead th {\n",
              "        text-align: right;\n",
              "    }\n",
              "</style>\n",
              "<table border=\"1\" class=\"dataframe\">\n",
              "  <thead>\n",
              "    <tr style=\"text-align: right;\">\n",
              "      <th></th>\n",
              "      <th>checkin</th>\n",
              "      <th>checkout</th>\n",
              "      <th>city_id</th>\n",
              "      <th>booker_country</th>\n",
              "      <th>hotel_country</th>\n",
              "      <th>utrip_id</th>\n",
              "    </tr>\n",
              "  </thead>\n",
              "  <tbody>\n",
              "    <tr>\n",
              "      <th>0</th>\n",
              "      <td>2016-08-13</td>\n",
              "      <td>2016-08-14</td>\n",
              "      <td>8183</td>\n",
              "      <td>Elbonia</td>\n",
              "      <td>Gondal</td>\n",
              "      <td>1000027_1</td>\n",
              "    </tr>\n",
              "    <tr>\n",
              "      <th>1</th>\n",
              "      <td>2016-08-14</td>\n",
              "      <td>2016-08-16</td>\n",
              "      <td>15626</td>\n",
              "      <td>Elbonia</td>\n",
              "      <td>Gondal</td>\n",
              "      <td>1000027_1</td>\n",
              "    </tr>\n",
              "    <tr>\n",
              "      <th>2</th>\n",
              "      <td>2016-08-16</td>\n",
              "      <td>2016-08-18</td>\n",
              "      <td>60902</td>\n",
              "      <td>Elbonia</td>\n",
              "      <td>Gondal</td>\n",
              "      <td>1000027_1</td>\n",
              "    </tr>\n",
              "    <tr>\n",
              "      <th>3</th>\n",
              "      <td>2016-08-18</td>\n",
              "      <td>2016-08-21</td>\n",
              "      <td>30628</td>\n",
              "      <td>Elbonia</td>\n",
              "      <td>Gondal</td>\n",
              "      <td>1000027_1</td>\n",
              "    </tr>\n",
              "    <tr>\n",
              "      <th>4</th>\n",
              "      <td>2016-04-09</td>\n",
              "      <td>2016-04-11</td>\n",
              "      <td>38677</td>\n",
              "      <td>Gondal</td>\n",
              "      <td>Cobra Island</td>\n",
              "      <td>1000033_1</td>\n",
              "    </tr>\n",
              "  </tbody>\n",
              "</table>\n",
              "</div>\n",
              "      <button class=\"colab-df-convert\" onclick=\"convertToInteractive('df-2f82e958-bdaf-4acf-bb39-dd4a0994e636')\"\n",
              "              title=\"Convert this dataframe to an interactive table.\"\n",
              "              style=\"display:none;\">\n",
              "        \n",
              "  <svg xmlns=\"http://www.w3.org/2000/svg\" height=\"24px\"viewBox=\"0 0 24 24\"\n",
              "       width=\"24px\">\n",
              "    <path d=\"M0 0h24v24H0V0z\" fill=\"none\"/>\n",
              "    <path d=\"M18.56 5.44l.94 2.06.94-2.06 2.06-.94-2.06-.94-.94-2.06-.94 2.06-2.06.94zm-11 1L8.5 8.5l.94-2.06 2.06-.94-2.06-.94L8.5 2.5l-.94 2.06-2.06.94zm10 10l.94 2.06.94-2.06 2.06-.94-2.06-.94-.94-2.06-.94 2.06-2.06.94z\"/><path d=\"M17.41 7.96l-1.37-1.37c-.4-.4-.92-.59-1.43-.59-.52 0-1.04.2-1.43.59L10.3 9.45l-7.72 7.72c-.78.78-.78 2.05 0 2.83L4 21.41c.39.39.9.59 1.41.59.51 0 1.02-.2 1.41-.59l7.78-7.78 2.81-2.81c.8-.78.8-2.07 0-2.86zM5.41 20L4 18.59l7.72-7.72 1.47 1.35L5.41 20z\"/>\n",
              "  </svg>\n",
              "      </button>\n",
              "      \n",
              "  <style>\n",
              "    .colab-df-container {\n",
              "      display:flex;\n",
              "      flex-wrap:wrap;\n",
              "      gap: 12px;\n",
              "    }\n",
              "\n",
              "    .colab-df-convert {\n",
              "      background-color: #E8F0FE;\n",
              "      border: none;\n",
              "      border-radius: 50%;\n",
              "      cursor: pointer;\n",
              "      display: none;\n",
              "      fill: #1967D2;\n",
              "      height: 32px;\n",
              "      padding: 0 0 0 0;\n",
              "      width: 32px;\n",
              "    }\n",
              "\n",
              "    .colab-df-convert:hover {\n",
              "      background-color: #E2EBFA;\n",
              "      box-shadow: 0px 1px 2px rgba(60, 64, 67, 0.3), 0px 1px 3px 1px rgba(60, 64, 67, 0.15);\n",
              "      fill: #174EA6;\n",
              "    }\n",
              "\n",
              "    [theme=dark] .colab-df-convert {\n",
              "      background-color: #3B4455;\n",
              "      fill: #D2E3FC;\n",
              "    }\n",
              "\n",
              "    [theme=dark] .colab-df-convert:hover {\n",
              "      background-color: #434B5C;\n",
              "      box-shadow: 0px 1px 3px 1px rgba(0, 0, 0, 0.15);\n",
              "      filter: drop-shadow(0px 1px 2px rgba(0, 0, 0, 0.3));\n",
              "      fill: #FFFFFF;\n",
              "    }\n",
              "  </style>\n",
              "\n",
              "      <script>\n",
              "        const buttonEl =\n",
              "          document.querySelector('#df-2f82e958-bdaf-4acf-bb39-dd4a0994e636 button.colab-df-convert');\n",
              "        buttonEl.style.display =\n",
              "          google.colab.kernel.accessAllowed ? 'block' : 'none';\n",
              "\n",
              "        async function convertToInteractive(key) {\n",
              "          const element = document.querySelector('#df-2f82e958-bdaf-4acf-bb39-dd4a0994e636');\n",
              "          const dataTable =\n",
              "            await google.colab.kernel.invokeFunction('convertToInteractive',\n",
              "                                                     [key], {});\n",
              "          if (!dataTable) return;\n",
              "\n",
              "          const docLinkHtml = 'Like what you see? Visit the ' +\n",
              "            '<a target=\"_blank\" href=https://colab.research.google.com/notebooks/data_table.ipynb>data table notebook</a>'\n",
              "            + ' to learn more about interactive tables.';\n",
              "          element.innerHTML = '';\n",
              "          dataTable['output_type'] = 'display_data';\n",
              "          await google.colab.output.renderOutput(dataTable, element);\n",
              "          const docLink = document.createElement('div');\n",
              "          docLink.innerHTML = docLinkHtml;\n",
              "          element.appendChild(docLink);\n",
              "        }\n",
              "      </script>\n",
              "    </div>\n",
              "  </div>\n",
              "  "
            ]
          },
          "metadata": {},
          "execution_count": 8
        }
      ],
      "source": [
        "df.head()\n"
      ]
    },
    {
      "cell_type": "code",
      "execution_count": 9,
      "metadata": {
        "id": "rw6qVSagqS_n"
      },
      "outputs": [],
      "source": [
        "# Build dict city id to country:\n",
        "city_to_country = {}\n",
        "lst_cities = df.groupby(\"city_id\").last().index\n",
        "lst_associated_countries = df.groupby(\"city_id\").last().hotel_country.values\n",
        "for i in range(len(lst_cities)):\n",
        "    city_to_country[lst_cities[i]] = lst_associated_countries[i]\n",
        "\n",
        "with open(path+\"city_to_country.pkl\", \"wb\") as f:\n",
        "    pickle.dump(city_to_country, f)\n"
      ]
    },
    {
      "cell_type": "code",
      "execution_count": 10,
      "metadata": {
        "id": "yAMN-HHsqS_n",
        "colab": {
          "base_uri": "https://localhost:8080/"
        },
        "outputId": "60fe1c35-a4be-461d-f34d-c836da04ee55"
      },
      "outputs": [
        {
          "output_type": "stream",
          "name": "stdout",
          "text": [
            "Number of reservations: 1166835\n"
          ]
        }
      ],
      "source": [
        "print(f\"Number of reservations: {df.shape[0]}\")\n"
      ]
    },
    {
      "cell_type": "code",
      "execution_count": 11,
      "metadata": {
        "id": "9ttiGI08qS_n"
      },
      "outputs": [],
      "source": [
        "trips = df.groupby(\"utrip_id\").city_id.apply(np.array)\n"
      ]
    },
    {
      "cell_type": "code",
      "execution_count": 12,
      "metadata": {
        "id": "u1rHoeaAqS_o"
      },
      "outputs": [],
      "source": [
        "lens = [len(trip) for trip in trips]\n"
      ]
    },
    {
      "cell_type": "code",
      "execution_count": 13,
      "metadata": {
        "id": "esIz4cqGqS_o",
        "colab": {
          "base_uri": "https://localhost:8080/",
          "height": 582
        },
        "outputId": "a3714d5a-94b8-4fb4-9406-e6965e90435f"
      },
      "outputs": [
        {
          "output_type": "display_data",
          "data": {
            "text/plain": [
              "<Figure size 720x576 with 1 Axes>"
            ],
            "image/png": "[encoded data removed]"
          },
          "metadata": {
            "needs_background": "light"
          }
        },
        {
          "output_type": "stream",
          "name": "stdout",
          "text": [
            "Most frequent size of a trip: 4\n",
            "Median size of a trip: 5.0\n",
            "Maximum size of a trip: 48\n",
            "Number of trips with size 1: 113\n"
          ]
        }
      ],
      "source": [
        "import seaborn as sns\n",
        "plt.figure(figsize=(10, 8))\n",
        "\n",
        "sns.histplot(lens, bins=48)\n",
        "plt.title(\"Distribution of lengths of trips\")\n",
        "plt.xlabel(\"Number of reservations within the trip\")\n",
        "plt.show()\n",
        "\n",
        "print(f\"Most frequent size of a trip: {stats.mode(lens)[0][0]}\")\n",
        "print(f\"Median size of a trip: {np.median(lens)}\")\n",
        "print(f\"Maximum size of a trip: {np.max(lens)}\")\n",
        "print(f\"Number of trips with size 1: {(np.array(lens) == 1).sum()}\")\n"
      ]
    },
    {
      "cell_type": "markdown",
      "source": [
        "Unique values "
      ],
      "metadata": {
        "id": "6N3r7eQWA6GK"
      }
    },
    {
      "cell_type": "code",
      "execution_count": 14,
      "metadata": {
        "id": "8cI-xK_BqS_o",
        "colab": {
          "base_uri": "https://localhost:8080/"
        },
        "outputId": "9777b08c-3445-4343-ccdd-1924f19720fe"
      },
      "outputs": [
        {
          "output_type": "stream",
          "name": "stdout",
          "text": [
            "Number of different cities: 39901\n",
            "Number of different countries: 195\n",
            "Number of trips: 217686\n"
          ]
        }
      ],
      "source": [
        "print(f\"Number of different cities: {df.city_id.nunique()}\")\n",
        "print(f\"Number of different countries: {df.hotel_country.nunique()}\")\n",
        "print(f\"Number of trips: {df.utrip_id.nunique()}\")\n"
      ]
    },
    {
      "cell_type": "code",
      "execution_count": 15,
      "metadata": {
        "id": "ya3qKkVYqS_o"
      },
      "outputs": [],
      "source": [
        "# let's count city_id\n",
        "countries_df = pd.DataFrame(df.groupby(\"hotel_country\").city_id.count())\n",
        "countries_df[\"unique_city_id\"] = df.groupby(\"hotel_country\").city_id.nunique()\n",
        "most_represented_countries = countries_df.sort_values(\"city_id\").city_id[-20:]\n"
      ]
    },
    {
      "cell_type": "code",
      "execution_count": 16,
      "metadata": {
        "id": "6XQxk7Y8qS_p",
        "colab": {
          "base_uri": "https://localhost:8080/"
        },
        "outputId": "13322a8b-851f-4231-addf-bec98d9ee023"
      },
      "outputs": [
        {
          "output_type": "stream",
          "name": "stdout",
          "text": [
            "Median number of reservation in each country: 199.0\n",
            "40 countries have less than 10 reservations\n"
          ]
        }
      ],
      "source": [
        "print(\n",
        "    f\"Median number of reservation in each country: {countries_df.city_id.median()}\")\n",
        "print(f\"{(countries_df.city_id < 10).sum()} countries have less than 10 reservations\")\n"
      ]
    },
    {
      "cell_type": "markdown",
      "source": [
        "Countries with most reservations"
      ],
      "metadata": {
        "id": "_Y6Cn1M6A_Oy"
      }
    },
    {
      "cell_type": "code",
      "execution_count": 17,
      "metadata": {
        "id": "oJvIFtCCqS_p",
        "colab": {
          "base_uri": "https://localhost:8080/",
          "height": 578
        },
        "outputId": "bed3d733-8da0-4149-9440-59bfc166d919"
      },
      "outputs": [
        {
          "output_type": "display_data",
          "data": {
            "text/plain": [
              "<Figure size 864x1008 with 1 Axes>"
            ],
            "image/png": "[encoded data removed]"
          },
          "metadata": {
            "needs_background": "light"
          }
        }
      ],
      "source": [
        "import seaborn as sns\n",
        "plt.figure(figsize=(12, 14))\n",
        "\n",
        "plt.subplot(2, 1, 1)\n",
        "plt.bar(most_represented_countries.index, most_represented_countries)\n",
        "plt.title(\"Countries with most reservations\")\n",
        "plt.xticks(rotation=50)\n",
        "\n",
        "plt.tight_layout()\n",
        "\n",
        "plt.show()\n"
      ]
    },
    {
      "cell_type": "code",
      "execution_count": 18,
      "metadata": {
        "id": "3fg94e6VqS_p"
      },
      "outputs": [],
      "source": [
        "vc = df.city_id.value_counts()\n",
        "\n",
        "def choose_threshold(n):\n",
        "    print(\n",
        "        f\"By choosing this threshold of {n}, you keep {vc.loc[vc.values > n].shape[0]} cities, \\nwhich account for {np.round(vc.loc[vc.values > n].sum() / df.shape[0], 2)} reservations of the total\")\n",
        "    return vc.loc[vc.values > n].index\n"
      ]
    },
    {
      "cell_type": "code",
      "execution_count": 19,
      "metadata": {
        "id": "aRy61sqqqS_p",
        "colab": {
          "base_uri": "https://localhost:8080/"
        },
        "outputId": "a0dddf8c-37fe-46d4-b381-128d2b416550"
      },
      "outputs": [
        {
          "output_type": "stream",
          "name": "stdout",
          "text": [
            "By choosing this threshold of 6, you keep 12345 cities, \n",
            "which account for 0.95 reservations of the total\n"
          ]
        }
      ],
      "source": [
        "cities_index = choose_threshold(6)\n"
      ]
    },
    {
      "cell_type": "markdown",
      "metadata": {
        "id": "sDqg7GDfqS_p"
      },
      "source": [
        "Let's choose 6, in order to keep 95% of reservation but divides number of cities by more than 3\n"
      ]
    },
    {
      "cell_type": "code",
      "execution_count": 20,
      "metadata": {
        "id": "GRmKr9sJqS_q"
      },
      "outputs": [],
      "source": [
        "filtered_df = df.loc[df.city_id.isin(cities_index)]\n"
      ]
    },
    {
      "cell_type": "code",
      "execution_count": 21,
      "metadata": {
        "id": "tAsIfIhYqS_q",
        "colab": {
          "base_uri": "https://localhost:8080/",
          "height": 424
        },
        "outputId": "980e982a-359d-472a-9c9a-6b135ae65292"
      },
      "outputs": [
        {
          "output_type": "execute_result",
          "data": {
            "text/plain": [
              "            checkin    checkout  city_id booker_country hotel_country  \\\n",
              "0        2016-08-13  2016-08-14     8183        Elbonia        Gondal   \n",
              "1        2016-08-14  2016-08-16    15626        Elbonia        Gondal   \n",
              "2        2016-08-16  2016-08-18    60902        Elbonia        Gondal   \n",
              "3        2016-08-18  2016-08-21    30628        Elbonia        Gondal   \n",
              "4        2016-04-09  2016-04-11    38677         Gondal  Cobra Island   \n",
              "...             ...         ...      ...            ...           ...   \n",
              "1166830  2016-05-01  2016-05-02    20345         Gondal   Fook Island   \n",
              "1166831  2016-06-23  2016-06-24    17944         Gondal  Glubbdubdrib   \n",
              "1166832  2016-06-24  2016-06-27    47075         Gondal  Glubbdubdrib   \n",
              "1166833  2016-06-27  2016-06-29      228         Gondal  Glubbdubdrib   \n",
              "1166834  2016-06-29  2016-06-30    62930         Gondal  Glubbdubdrib   \n",
              "\n",
              "          utrip_id  \n",
              "0        1000027_1  \n",
              "1        1000027_1  \n",
              "2        1000027_1  \n",
              "3        1000027_1  \n",
              "4        1000033_1  \n",
              "...            ...  \n",
              "1166830   999855_1  \n",
              "1166831   999944_1  \n",
              "1166832   999944_1  \n",
              "1166833   999944_1  \n",
              "1166834   999944_1  \n",
              "\n",
              "[1104079 rows x 6 columns]"
            ],
            "text/html": [
              "\n",
              "  <div id=\"df-c29303df-f528-41ca-8f02-17aaa8f8d346\">\n",
              "    <div class=\"colab-df-container\">\n",
              "      <div>\n",
              "<style scoped>\n",
              "    .dataframe tbody tr th:only-of-type {\n",
              "        vertical-align: middle;\n",
              "    }\n",
              "\n",
              "    .dataframe tbody tr th {\n",
              "        vertical-align: top;\n",
              "    }\n",
              "\n",
              "    .dataframe thead th {\n",
              "        text-align: right;\n",
              "    }\n",
              "</style>\n",
              "<table border=\"1\" class=\"dataframe\">\n",
              "  <thead>\n",
              "    <tr style=\"text-align: right;\">\n",
              "      <th></th>\n",
              "      <th>checkin</th>\n",
              "      <th>checkout</th>\n",
              "      <th>city_id</th>\n",
              "      <th>booker_country</th>\n",
              "      <th>hotel_country</th>\n",
              "      <th>utrip_id</th>\n",
              "    </tr>\n",
              "  </thead>\n",
              "  <tbody>\n",
              "    <tr>\n",
              "      <th>0</th>\n",
              "      <td>2016-08-13</td>\n",
              "      <td>2016-08-14</td>\n",
              "      <td>8183</td>\n",
              "      <td>Elbonia</td>\n",
              "      <td>Gondal</td>\n",
              "      <td>1000027_1</td>\n",
              "    </tr>\n",
              "    <tr>\n",
              "      <th>1</th>\n",
              "      <td>2016-08-14</td>\n",
              "      <td>2016-08-16</td>\n",
              "      <td>15626</td>\n",
              "      <td>Elbonia</td>\n",
              "      <td>Gondal</td>\n",
              "      <td>1000027_1</td>\n",
              "    </tr>\n",
              "    <tr>\n",
              "      <th>2</th>\n",
              "      <td>2016-08-16</td>\n",
              "      <td>2016-08-18</td>\n",
              "      <td>60902</td>\n",
              "      <td>Elbonia</td>\n",
              "      <td>Gondal</td>\n",
              "      <td>1000027_1</td>\n",
              "    </tr>\n",
              "    <tr>\n",
              "      <th>3</th>\n",
              "      <td>2016-08-18</td>\n",
              "      <td>2016-08-21</td>\n",
              "      <td>30628</td>\n",
              "      <td>Elbonia</td>\n",
              "      <td>Gondal</td>\n",
              "      <td>1000027_1</td>\n",
              "    </tr>\n",
              "    <tr>\n",
              "      <th>4</th>\n",
              "      <td>2016-04-09</td>\n",
              "      <td>2016-04-11</td>\n",
              "      <td>38677</td>\n",
              "      <td>Gondal</td>\n",
              "      <td>Cobra Island</td>\n",
              "      <td>1000033_1</td>\n",
              "    </tr>\n",
              "    <tr>\n",
              "      <th>...</th>\n",
              "      <td>...</td>\n",
              "      <td>...</td>\n",
              "      <td>...</td>\n",
              "      <td>...</td>\n",
              "      <td>...</td>\n",
              "      <td>...</td>\n",
              "    </tr>\n",
              "    <tr>\n",
              "      <th>1166830</th>\n",
              "      <td>2016-05-01</td>\n",
              "      <td>2016-05-02</td>\n",
              "      <td>20345</td>\n",
              "      <td>Gondal</td>\n",
              "      <td>Fook Island</td>\n",
              "      <td>999855_1</td>\n",
              "    </tr>\n",
              "    <tr>\n",
              "      <th>1166831</th>\n",
              "      <td>2016-06-23</td>\n",
              "      <td>2016-06-24</td>\n",
              "      <td>17944</td>\n",
              "      <td>Gondal</td>\n",
              "      <td>Glubbdubdrib</td>\n",
              "      <td>999944_1</td>\n",
              "    </tr>\n",
              "    <tr>\n",
              "      <th>1166832</th>\n",
              "      <td>2016-06-24</td>\n",
              "      <td>2016-06-27</td>\n",
              "      <td>47075</td>\n",
              "      <td>Gondal</td>\n",
              "      <td>Glubbdubdrib</td>\n",
              "      <td>999944_1</td>\n",
              "    </tr>\n",
              "    <tr>\n",
              "      <th>1166833</th>\n",
              "      <td>2016-06-27</td>\n",
              "      <td>2016-06-29</td>\n",
              "      <td>228</td>\n",
              "      <td>Gondal</td>\n",
              "      <td>Glubbdubdrib</td>\n",
              "      <td>999944_1</td>\n",
              "    </tr>\n",
              "    <tr>\n",
              "      <th>1166834</th>\n",
              "      <td>2016-06-29</td>\n",
              "      <td>2016-06-30</td>\n",
              "      <td>62930</td>\n",
              "      <td>Gondal</td>\n",
              "      <td>Glubbdubdrib</td>\n",
              "      <td>999944_1</td>\n",
              "    </tr>\n",
              "  </tbody>\n",
              "</table>\n",
              "<p>1104079 rows × 6 columns</p>\n",
              "</div>\n",
              "      <button class=\"colab-df-convert\" onclick=\"convertToInteractive('df-c29303df-f528-41ca-8f02-17aaa8f8d346')\"\n",
              "              title=\"Convert this dataframe to an interactive table.\"\n",
              "              style=\"display:none;\">\n",
              "        \n",
              "  <svg xmlns=\"http://www.w3.org/2000/svg\" height=\"24px\"viewBox=\"0 0 24 24\"\n",
              "       width=\"24px\">\n",
              "    <path d=\"M0 0h24v24H0V0z\" fill=\"none\"/>\n",
              "    <path d=\"M18.56 5.44l.94 2.06.94-2.06 2.06-.94-2.06-.94-.94-2.06-.94 2.06-2.06.94zm-11 1L8.5 8.5l.94-2.06 2.06-.94-2.06-.94L8.5 2.5l-.94 2.06-2.06.94zm10 10l.94 2.06.94-2.06 2.06-.94-2.06-.94-.94-2.06-.94 2.06-2.06.94z\"/><path d=\"M17.41 7.96l-1.37-1.37c-.4-.4-.92-.59-1.43-.59-.52 0-1.04.2-1.43.59L10.3 9.45l-7.72 7.72c-.78.78-.78 2.05 0 2.83L4 21.41c.39.39.9.59 1.41.59.51 0 1.02-.2 1.41-.59l7.78-7.78 2.81-2.81c.8-.78.8-2.07 0-2.86zM5.41 20L4 18.59l7.72-7.72 1.47 1.35L5.41 20z\"/>\n",
              "  </svg>\n",
              "      </button>\n",
              "      \n",
              "  <style>\n",
              "    .colab-df-container {\n",
              "      display:flex;\n",
              "      flex-wrap:wrap;\n",
              "      gap: 12px;\n",
              "    }\n",
              "\n",
              "    .colab-df-convert {\n",
              "      background-color: #E8F0FE;\n",
              "      border: none;\n",
              "      border-radius: 50%;\n",
              "      cursor: pointer;\n",
              "      display: none;\n",
              "      fill: #1967D2;\n",
              "      height: 32px;\n",
              "      padding: 0 0 0 0;\n",
              "      width: 32px;\n",
              "    }\n",
              "\n",
              "    .colab-df-convert:hover {\n",
              "      background-color: #E2EBFA;\n",
              "      box-shadow: 0px 1px 2px rgba(60, 64, 67, 0.3), 0px 1px 3px 1px rgba(60, 64, 67, 0.15);\n",
              "      fill: #174EA6;\n",
              "    }\n",
              "\n",
              "    [theme=dark] .colab-df-convert {\n",
              "      background-color: #3B4455;\n",
              "      fill: #D2E3FC;\n",
              "    }\n",
              "\n",
              "    [theme=dark] .colab-df-convert:hover {\n",
              "      background-color: #434B5C;\n",
              "      box-shadow: 0px 1px 3px 1px rgba(0, 0, 0, 0.15);\n",
              "      filter: drop-shadow(0px 1px 2px rgba(0, 0, 0, 0.3));\n",
              "      fill: #FFFFFF;\n",
              "    }\n",
              "  </style>\n",
              "\n",
              "      <script>\n",
              "        const buttonEl =\n",
              "          document.querySelector('#df-c29303df-f528-41ca-8f02-17aaa8f8d346 button.colab-df-convert');\n",
              "        buttonEl.style.display =\n",
              "          google.colab.kernel.accessAllowed ? 'block' : 'none';\n",
              "\n",
              "        async function convertToInteractive(key) {\n",
              "          const element = document.querySelector('#df-c29303df-f528-41ca-8f02-17aaa8f8d346');\n",
              "          const dataTable =\n",
              "            await google.colab.kernel.invokeFunction('convertToInteractive',\n",
              "                                                     [key], {});\n",
              "          if (!dataTable) return;\n",
              "\n",
              "          const docLinkHtml = 'Like what you see? Visit the ' +\n",
              "            '<a target=\"_blank\" href=https://colab.research.google.com/notebooks/data_table.ipynb>data table notebook</a>'\n",
              "            + ' to learn more about interactive tables.';\n",
              "          element.innerHTML = '';\n",
              "          dataTable['output_type'] = 'display_data';\n",
              "          await google.colab.output.renderOutput(dataTable, element);\n",
              "          const docLink = document.createElement('div');\n",
              "          docLink.innerHTML = docLinkHtml;\n",
              "          element.appendChild(docLink);\n",
              "        }\n",
              "      </script>\n",
              "    </div>\n",
              "  </div>\n",
              "  "
            ]
          },
          "metadata": {},
          "execution_count": 21
        }
      ],
      "source": [
        "filtered_df\n"
      ]
    },
    {
      "cell_type": "code",
      "execution_count": 22,
      "metadata": {
        "id": "73plA7OMqS_q",
        "colab": {
          "base_uri": "https://localhost:8080/"
        },
        "outputId": "540e6130-cc90-40df-e0b9-1b0b5837afb7"
      },
      "outputs": [
        {
          "output_type": "stream",
          "name": "stdout",
          "text": [
            "Number of different cities: 12345\n",
            "Number of different countries: 148\n",
            "Number of trips: 217411\n"
          ]
        }
      ],
      "source": [
        "print(f\"Number of different cities: {filtered_df.city_id.nunique()}\")\n",
        "print(f\"Number of different countries: {filtered_df.hotel_country.nunique()}\")\n",
        "print(f\"Number of trips: {filtered_df.utrip_id.nunique()}\")\n"
      ]
    },
    {
      "cell_type": "markdown",
      "metadata": {
        "id": "H7dY_xqkqS_q"
      },
      "source": [
        "By doing so we suppressed about 50 countries, with small amounts of reservations. We eventually decide to keep them.\n"
      ]
    },
    {
      "cell_type": "code",
      "execution_count": 23,
      "metadata": {
        "id": "Y5eZruAiqS_q",
        "colab": {
          "base_uri": "https://localhost:8080/",
          "height": 206
        },
        "outputId": "11dd8c9e-2940-4642-f157-48b853fb0ea4"
      },
      "outputs": [
        {
          "output_type": "execute_result",
          "data": {
            "text/plain": [
              "      checkin    checkout  city_id booker_country hotel_country   utrip_id\n",
              "0  2016-08-13  2016-08-14     8183        Elbonia        Gondal  1000027_1\n",
              "1  2016-08-14  2016-08-16    15626        Elbonia        Gondal  1000027_1\n",
              "2  2016-08-16  2016-08-18    60902        Elbonia        Gondal  1000027_1\n",
              "3  2016-08-18  2016-08-21    30628        Elbonia        Gondal  1000027_1\n",
              "4  2016-04-09  2016-04-11    38677         Gondal  Cobra Island  1000033_1"
            ],
            "text/html": [
              "\n",
              "  <div id=\"df-42f90329-6dbf-402b-9285-40062c0ca8eb\">\n",
              "    <div class=\"colab-df-container\">\n",
              "      <div>\n",
              "<style scoped>\n",
              "    .dataframe tbody tr th:only-of-type {\n",
              "        vertical-align: middle;\n",
              "    }\n",
              "\n",
              "    .dataframe tbody tr th {\n",
              "        vertical-align: top;\n",
              "    }\n",
              "\n",
              "    .dataframe thead th {\n",
              "        text-align: right;\n",
              "    }\n",
              "</style>\n",
              "<table border=\"1\" class=\"dataframe\">\n",
              "  <thead>\n",
              "    <tr style=\"text-align: right;\">\n",
              "      <th></th>\n",
              "      <th>checkin</th>\n",
              "      <th>checkout</th>\n",
              "      <th>city_id</th>\n",
              "      <th>booker_country</th>\n",
              "      <th>hotel_country</th>\n",
              "      <th>utrip_id</th>\n",
              "    </tr>\n",
              "  </thead>\n",
              "  <tbody>\n",
              "    <tr>\n",
              "      <th>0</th>\n",
              "      <td>2016-08-13</td>\n",
              "      <td>2016-08-14</td>\n",
              "      <td>8183</td>\n",
              "      <td>Elbonia</td>\n",
              "      <td>Gondal</td>\n",
              "      <td>1000027_1</td>\n",
              "    </tr>\n",
              "    <tr>\n",
              "      <th>1</th>\n",
              "      <td>2016-08-14</td>\n",
              "      <td>2016-08-16</td>\n",
              "      <td>15626</td>\n",
              "      <td>Elbonia</td>\n",
              "      <td>Gondal</td>\n",
              "      <td>1000027_1</td>\n",
              "    </tr>\n",
              "    <tr>\n",
              "      <th>2</th>\n",
              "      <td>2016-08-16</td>\n",
              "      <td>2016-08-18</td>\n",
              "      <td>60902</td>\n",
              "      <td>Elbonia</td>\n",
              "      <td>Gondal</td>\n",
              "      <td>1000027_1</td>\n",
              "    </tr>\n",
              "    <tr>\n",
              "      <th>3</th>\n",
              "      <td>2016-08-18</td>\n",
              "      <td>2016-08-21</td>\n",
              "      <td>30628</td>\n",
              "      <td>Elbonia</td>\n",
              "      <td>Gondal</td>\n",
              "      <td>1000027_1</td>\n",
              "    </tr>\n",
              "    <tr>\n",
              "      <th>4</th>\n",
              "      <td>2016-04-09</td>\n",
              "      <td>2016-04-11</td>\n",
              "      <td>38677</td>\n",
              "      <td>Gondal</td>\n",
              "      <td>Cobra Island</td>\n",
              "      <td>1000033_1</td>\n",
              "    </tr>\n",
              "  </tbody>\n",
              "</table>\n",
              "</div>\n",
              "      <button class=\"colab-df-convert\" onclick=\"convertToInteractive('df-42f90329-6dbf-402b-9285-40062c0ca8eb')\"\n",
              "              title=\"Convert this dataframe to an interactive table.\"\n",
              "              style=\"display:none;\">\n",
              "        \n",
              "  <svg xmlns=\"http://www.w3.org/2000/svg\" height=\"24px\"viewBox=\"0 0 24 24\"\n",
              "       width=\"24px\">\n",
              "    <path d=\"M0 0h24v24H0V0z\" fill=\"none\"/>\n",
              "    <path d=\"M18.56 5.44l.94 2.06.94-2.06 2.06-.94-2.06-.94-.94-2.06-.94 2.06-2.06.94zm-11 1L8.5 8.5l.94-2.06 2.06-.94-2.06-.94L8.5 2.5l-.94 2.06-2.06.94zm10 10l.94 2.06.94-2.06 2.06-.94-2.06-.94-.94-2.06-.94 2.06-2.06.94z\"/><path d=\"M17.41 7.96l-1.37-1.37c-.4-.4-.92-.59-1.43-.59-.52 0-1.04.2-1.43.59L10.3 9.45l-7.72 7.72c-.78.78-.78 2.05 0 2.83L4 21.41c.39.39.9.59 1.41.59.51 0 1.02-.2 1.41-.59l7.78-7.78 2.81-2.81c.8-.78.8-2.07 0-2.86zM5.41 20L4 18.59l7.72-7.72 1.47 1.35L5.41 20z\"/>\n",
              "  </svg>\n",
              "      </button>\n",
              "      \n",
              "  <style>\n",
              "    .colab-df-container {\n",
              "      display:flex;\n",
              "      flex-wrap:wrap;\n",
              "      gap: 12px;\n",
              "    }\n",
              "\n",
              "    .colab-df-convert {\n",
              "      background-color: #E8F0FE;\n",
              "      border: none;\n",
              "      border-radius: 50%;\n",
              "      cursor: pointer;\n",
              "      display: none;\n",
              "      fill: #1967D2;\n",
              "      height: 32px;\n",
              "      padding: 0 0 0 0;\n",
              "      width: 32px;\n",
              "    }\n",
              "\n",
              "    .colab-df-convert:hover {\n",
              "      background-color: #E2EBFA;\n",
              "      box-shadow: 0px 1px 2px rgba(60, 64, 67, 0.3), 0px 1px 3px 1px rgba(60, 64, 67, 0.15);\n",
              "      fill: #174EA6;\n",
              "    }\n",
              "\n",
              "    [theme=dark] .colab-df-convert {\n",
              "      background-color: #3B4455;\n",
              "      fill: #D2E3FC;\n",
              "    }\n",
              "\n",
              "    [theme=dark] .colab-df-convert:hover {\n",
              "      background-color: #434B5C;\n",
              "      box-shadow: 0px 1px 3px 1px rgba(0, 0, 0, 0.15);\n",
              "      filter: drop-shadow(0px 1px 2px rgba(0, 0, 0, 0.3));\n",
              "      fill: #FFFFFF;\n",
              "    }\n",
              "  </style>\n",
              "\n",
              "      <script>\n",
              "        const buttonEl =\n",
              "          document.querySelector('#df-42f90329-6dbf-402b-9285-40062c0ca8eb button.colab-df-convert');\n",
              "        buttonEl.style.display =\n",
              "          google.colab.kernel.accessAllowed ? 'block' : 'none';\n",
              "\n",
              "        async function convertToInteractive(key) {\n",
              "          const element = document.querySelector('#df-42f90329-6dbf-402b-9285-40062c0ca8eb');\n",
              "          const dataTable =\n",
              "            await google.colab.kernel.invokeFunction('convertToInteractive',\n",
              "                                                     [key], {});\n",
              "          if (!dataTable) return;\n",
              "\n",
              "          const docLinkHtml = 'Like what you see? Visit the ' +\n",
              "            '<a target=\"_blank\" href=https://colab.research.google.com/notebooks/data_table.ipynb>data table notebook</a>'\n",
              "            + ' to learn more about interactive tables.';\n",
              "          element.innerHTML = '';\n",
              "          dataTable['output_type'] = 'display_data';\n",
              "          await google.colab.output.renderOutput(dataTable, element);\n",
              "          const docLink = document.createElement('div');\n",
              "          docLink.innerHTML = docLinkHtml;\n",
              "          element.appendChild(docLink);\n",
              "        }\n",
              "      </script>\n",
              "    </div>\n",
              "  </div>\n",
              "  "
            ]
          },
          "metadata": {},
          "execution_count": 23
        }
      ],
      "source": [
        "df.head()\n"
      ]
    },
    {
      "cell_type": "code",
      "execution_count": 24,
      "metadata": {
        "id": "u7fs4bRZqS_r",
        "colab": {
          "base_uri": "https://localhost:8080/",
          "height": 424
        },
        "outputId": "6725ffba-21bf-467e-cd2c-c893dd4ddc7a"
      },
      "outputs": [
        {
          "output_type": "execute_result",
          "data": {
            "text/plain": [
              "            checkin    checkout  city_id booker_country hotel_country  \\\n",
              "0        2016-08-13  2016-08-14     8183        Elbonia        Gondal   \n",
              "1        2016-08-14  2016-08-16    15626        Elbonia        Gondal   \n",
              "2        2016-08-16  2016-08-18    60902        Elbonia        Gondal   \n",
              "3        2016-08-18  2016-08-21    30628        Elbonia        Gondal   \n",
              "4        2016-04-09  2016-04-11    38677         Gondal  Cobra Island   \n",
              "...             ...         ...      ...            ...           ...   \n",
              "1166830  2016-05-01  2016-05-02    20345         Gondal   Fook Island   \n",
              "1166831  2016-06-23  2016-06-24    17944         Gondal  Glubbdubdrib   \n",
              "1166832  2016-06-24  2016-06-27    47075         Gondal  Glubbdubdrib   \n",
              "1166833  2016-06-27  2016-06-29      228         Gondal  Glubbdubdrib   \n",
              "1166834  2016-06-29  2016-06-30    62930         Gondal  Glubbdubdrib   \n",
              "\n",
              "          utrip_id  \n",
              "0        1000027_1  \n",
              "1        1000027_1  \n",
              "2        1000027_1  \n",
              "3        1000027_1  \n",
              "4        1000033_1  \n",
              "...            ...  \n",
              "1166830   999855_1  \n",
              "1166831   999944_1  \n",
              "1166832   999944_1  \n",
              "1166833   999944_1  \n",
              "1166834   999944_1  \n",
              "\n",
              "[1166835 rows x 6 columns]"
            ],
            "text/html": [
              "\n",
              "  <div id=\"df-da5a4a0a-0136-49be-a451-327a6804b3bf\">\n",
              "    <div class=\"colab-df-container\">\n",
              "      <div>\n",
              "<style scoped>\n",
              "    .dataframe tbody tr th:only-of-type {\n",
              "        vertical-align: middle;\n",
              "    }\n",
              "\n",
              "    .dataframe tbody tr th {\n",
              "        vertical-align: top;\n",
              "    }\n",
              "\n",
              "    .dataframe thead th {\n",
              "        text-align: right;\n",
              "    }\n",
              "</style>\n",
              "<table border=\"1\" class=\"dataframe\">\n",
              "  <thead>\n",
              "    <tr style=\"text-align: right;\">\n",
              "      <th></th>\n",
              "      <th>checkin</th>\n",
              "      <th>checkout</th>\n",
              "      <th>city_id</th>\n",
              "      <th>booker_country</th>\n",
              "      <th>hotel_country</th>\n",
              "      <th>utrip_id</th>\n",
              "    </tr>\n",
              "  </thead>\n",
              "  <tbody>\n",
              "    <tr>\n",
              "      <th>0</th>\n",
              "      <td>2016-08-13</td>\n",
              "      <td>2016-08-14</td>\n",
              "      <td>8183</td>\n",
              "      <td>Elbonia</td>\n",
              "      <td>Gondal</td>\n",
              "      <td>1000027_1</td>\n",
              "    </tr>\n",
              "    <tr>\n",
              "      <th>1</th>\n",
              "      <td>2016-08-14</td>\n",
              "      <td>2016-08-16</td>\n",
              "      <td>15626</td>\n",
              "      <td>Elbonia</td>\n",
              "      <td>Gondal</td>\n",
              "      <td>1000027_1</td>\n",
              "    </tr>\n",
              "    <tr>\n",
              "      <th>2</th>\n",
              "      <td>2016-08-16</td>\n",
              "      <td>2016-08-18</td>\n",
              "      <td>60902</td>\n",
              "      <td>Elbonia</td>\n",
              "      <td>Gondal</td>\n",
              "      <td>1000027_1</td>\n",
              "    </tr>\n",
              "    <tr>\n",
              "      <th>3</th>\n",
              "      <td>2016-08-18</td>\n",
              "      <td>2016-08-21</td>\n",
              "      <td>30628</td>\n",
              "      <td>Elbonia</td>\n",
              "      <td>Gondal</td>\n",
              "      <td>1000027_1</td>\n",
              "    </tr>\n",
              "    <tr>\n",
              "      <th>4</th>\n",
              "      <td>2016-04-09</td>\n",
              "      <td>2016-04-11</td>\n",
              "      <td>38677</td>\n",
              "      <td>Gondal</td>\n",
              "      <td>Cobra Island</td>\n",
              "      <td>1000033_1</td>\n",
              "    </tr>\n",
              "    <tr>\n",
              "      <th>...</th>\n",
              "      <td>...</td>\n",
              "      <td>...</td>\n",
              "      <td>...</td>\n",
              "      <td>...</td>\n",
              "      <td>...</td>\n",
              "      <td>...</td>\n",
              "    </tr>\n",
              "    <tr>\n",
              "      <th>1166830</th>\n",
              "      <td>2016-05-01</td>\n",
              "      <td>2016-05-02</td>\n",
              "      <td>20345</td>\n",
              "      <td>Gondal</td>\n",
              "      <td>Fook Island</td>\n",
              "      <td>999855_1</td>\n",
              "    </tr>\n",
              "    <tr>\n",
              "      <th>1166831</th>\n",
              "      <td>2016-06-23</td>\n",
              "      <td>2016-06-24</td>\n",
              "      <td>17944</td>\n",
              "      <td>Gondal</td>\n",
              "      <td>Glubbdubdrib</td>\n",
              "      <td>999944_1</td>\n",
              "    </tr>\n",
              "    <tr>\n",
              "      <th>1166832</th>\n",
              "      <td>2016-06-24</td>\n",
              "      <td>2016-06-27</td>\n",
              "      <td>47075</td>\n",
              "      <td>Gondal</td>\n",
              "      <td>Glubbdubdrib</td>\n",
              "      <td>999944_1</td>\n",
              "    </tr>\n",
              "    <tr>\n",
              "      <th>1166833</th>\n",
              "      <td>2016-06-27</td>\n",
              "      <td>2016-06-29</td>\n",
              "      <td>228</td>\n",
              "      <td>Gondal</td>\n",
              "      <td>Glubbdubdrib</td>\n",
              "      <td>999944_1</td>\n",
              "    </tr>\n",
              "    <tr>\n",
              "      <th>1166834</th>\n",
              "      <td>2016-06-29</td>\n",
              "      <td>2016-06-30</td>\n",
              "      <td>62930</td>\n",
              "      <td>Gondal</td>\n",
              "      <td>Glubbdubdrib</td>\n",
              "      <td>999944_1</td>\n",
              "    </tr>\n",
              "  </tbody>\n",
              "</table>\n",
              "<p>1166835 rows × 6 columns</p>\n",
              "</div>\n",
              "      <button class=\"colab-df-convert\" onclick=\"convertToInteractive('df-da5a4a0a-0136-49be-a451-327a6804b3bf')\"\n",
              "              title=\"Convert this dataframe to an interactive table.\"\n",
              "              style=\"display:none;\">\n",
              "        \n",
              "  <svg xmlns=\"http://www.w3.org/2000/svg\" height=\"24px\"viewBox=\"0 0 24 24\"\n",
              "       width=\"24px\">\n",
              "    <path d=\"M0 0h24v24H0V0z\" fill=\"none\"/>\n",
              "    <path d=\"M18.56 5.44l.94 2.06.94-2.06 2.06-.94-2.06-.94-.94-2.06-.94 2.06-2.06.94zm-11 1L8.5 8.5l.94-2.06 2.06-.94-2.06-.94L8.5 2.5l-.94 2.06-2.06.94zm10 10l.94 2.06.94-2.06 2.06-.94-2.06-.94-.94-2.06-.94 2.06-2.06.94z\"/><path d=\"M17.41 7.96l-1.37-1.37c-.4-.4-.92-.59-1.43-.59-.52 0-1.04.2-1.43.59L10.3 9.45l-7.72 7.72c-.78.78-.78 2.05 0 2.83L4 21.41c.39.39.9.59 1.41.59.51 0 1.02-.2 1.41-.59l7.78-7.78 2.81-2.81c.8-.78.8-2.07 0-2.86zM5.41 20L4 18.59l7.72-7.72 1.47 1.35L5.41 20z\"/>\n",
              "  </svg>\n",
              "      </button>\n",
              "      \n",
              "  <style>\n",
              "    .colab-df-container {\n",
              "      display:flex;\n",
              "      flex-wrap:wrap;\n",
              "      gap: 12px;\n",
              "    }\n",
              "\n",
              "    .colab-df-convert {\n",
              "      background-color: #E8F0FE;\n",
              "      border: none;\n",
              "      border-radius: 50%;\n",
              "      cursor: pointer;\n",
              "      display: none;\n",
              "      fill: #1967D2;\n",
              "      height: 32px;\n",
              "      padding: 0 0 0 0;\n",
              "      width: 32px;\n",
              "    }\n",
              "\n",
              "    .colab-df-convert:hover {\n",
              "      background-color: #E2EBFA;\n",
              "      box-shadow: 0px 1px 2px rgba(60, 64, 67, 0.3), 0px 1px 3px 1px rgba(60, 64, 67, 0.15);\n",
              "      fill: #174EA6;\n",
              "    }\n",
              "\n",
              "    [theme=dark] .colab-df-convert {\n",
              "      background-color: #3B4455;\n",
              "      fill: #D2E3FC;\n",
              "    }\n",
              "\n",
              "    [theme=dark] .colab-df-convert:hover {\n",
              "      background-color: #434B5C;\n",
              "      box-shadow: 0px 1px 3px 1px rgba(0, 0, 0, 0.15);\n",
              "      filter: drop-shadow(0px 1px 2px rgba(0, 0, 0, 0.3));\n",
              "      fill: #FFFFFF;\n",
              "    }\n",
              "  </style>\n",
              "\n",
              "      <script>\n",
              "        const buttonEl =\n",
              "          document.querySelector('#df-da5a4a0a-0136-49be-a451-327a6804b3bf button.colab-df-convert');\n",
              "        buttonEl.style.display =\n",
              "          google.colab.kernel.accessAllowed ? 'block' : 'none';\n",
              "\n",
              "        async function convertToInteractive(key) {\n",
              "          const element = document.querySelector('#df-da5a4a0a-0136-49be-a451-327a6804b3bf');\n",
              "          const dataTable =\n",
              "            await google.colab.kernel.invokeFunction('convertToInteractive',\n",
              "                                                     [key], {});\n",
              "          if (!dataTable) return;\n",
              "\n",
              "          const docLinkHtml = 'Like what you see? Visit the ' +\n",
              "            '<a target=\"_blank\" href=https://colab.research.google.com/notebooks/data_table.ipynb>data table notebook</a>'\n",
              "            + ' to learn more about interactive tables.';\n",
              "          element.innerHTML = '';\n",
              "          dataTable['output_type'] = 'display_data';\n",
              "          await google.colab.output.renderOutput(dataTable, element);\n",
              "          const docLink = document.createElement('div');\n",
              "          docLink.innerHTML = docLinkHtml;\n",
              "          element.appendChild(docLink);\n",
              "        }\n",
              "      </script>\n",
              "    </div>\n",
              "  </div>\n",
              "  "
            ]
          },
          "metadata": {},
          "execution_count": 24
        }
      ],
      "source": [
        "df"
      ]
    },
    {
      "cell_type": "markdown",
      "source": [
        "Encoding "
      ],
      "metadata": {
        "id": "idepHjebBH53"
      }
    },
    {
      "cell_type": "code",
      "execution_count": 25,
      "metadata": {
        "id": "kMlIf5QzqS_r"
      },
      "outputs": [],
      "source": [
        "# fit our encoders on all data\n",
        "from sklearn.preprocessing import LabelEncoder\n",
        "encode_cities = LabelEncoder()\n",
        "encode_hotel_country = LabelEncoder()\n",
        "encode_booker_country = LabelEncoder()\n",
        "\n",
        "encode_cities.fit(df.city_id)\n",
        "encode_hotel_country.fit(df.hotel_country)\n",
        "encode_booker_country.fit(df.booker_country)\n",
        "\n",
        "# Save those encoders for preprocessing test data\n",
        "\n",
        "with open(path+\"Preprocessing_encoders.pkl\", \"wb\") as f:\n",
        "    pickle.dump([encode_cities, encode_hotel_country,\n",
        "                encode_booker_country], f)\n"
      ]
    },
    {
      "cell_type": "markdown",
      "metadata": {
        "id": "aT3u6XVfqS_r"
      },
      "source": [
        "---\n"
      ]
    },
    {
      "cell_type": "markdown",
      "metadata": {
        "id": "Hkc7BB7BqS_r"
      },
      "source": [
        "## Saving a test dataframe\n"
      ]
    },
    {
      "cell_type": "code",
      "execution_count": 26,
      "metadata": {
        "id": "S7Ab6mKOqS_r",
        "colab": {
          "base_uri": "https://localhost:8080/",
          "height": 206
        },
        "outputId": "e69ccb29-7436-40ac-89d7-b1fac70d829a"
      },
      "outputs": [
        {
          "output_type": "execute_result",
          "data": {
            "text/plain": [
              "      checkin    checkout  city_id booker_country hotel_country   utrip_id\n",
              "0  2016-08-13  2016-08-14     8183        Elbonia        Gondal  1000027_1\n",
              "1  2016-08-14  2016-08-16    15626        Elbonia        Gondal  1000027_1\n",
              "2  2016-08-16  2016-08-18    60902        Elbonia        Gondal  1000027_1\n",
              "3  2016-08-18  2016-08-21    30628        Elbonia        Gondal  1000027_1\n",
              "4  2016-04-09  2016-04-11    38677         Gondal  Cobra Island  1000033_1"
            ],
            "text/html": [
              "\n",
              "  <div id=\"df-3aa93ba5-f3d8-4684-85d7-185c2cb26137\">\n",
              "    <div class=\"colab-df-container\">\n",
              "      <div>\n",
              "<style scoped>\n",
              "    .dataframe tbody tr th:only-of-type {\n",
              "        vertical-align: middle;\n",
              "    }\n",
              "\n",
              "    .dataframe tbody tr th {\n",
              "        vertical-align: top;\n",
              "    }\n",
              "\n",
              "    .dataframe thead th {\n",
              "        text-align: right;\n",
              "    }\n",
              "</style>\n",
              "<table border=\"1\" class=\"dataframe\">\n",
              "  <thead>\n",
              "    <tr style=\"text-align: right;\">\n",
              "      <th></th>\n",
              "      <th>checkin</th>\n",
              "      <th>checkout</th>\n",
              "      <th>city_id</th>\n",
              "      <th>booker_country</th>\n",
              "      <th>hotel_country</th>\n",
              "      <th>utrip_id</th>\n",
              "    </tr>\n",
              "  </thead>\n",
              "  <tbody>\n",
              "    <tr>\n",
              "      <th>0</th>\n",
              "      <td>2016-08-13</td>\n",
              "      <td>2016-08-14</td>\n",
              "      <td>8183</td>\n",
              "      <td>Elbonia</td>\n",
              "      <td>Gondal</td>\n",
              "      <td>1000027_1</td>\n",
              "    </tr>\n",
              "    <tr>\n",
              "      <th>1</th>\n",
              "      <td>2016-08-14</td>\n",
              "      <td>2016-08-16</td>\n",
              "      <td>15626</td>\n",
              "      <td>Elbonia</td>\n",
              "      <td>Gondal</td>\n",
              "      <td>1000027_1</td>\n",
              "    </tr>\n",
              "    <tr>\n",
              "      <th>2</th>\n",
              "      <td>2016-08-16</td>\n",
              "      <td>2016-08-18</td>\n",
              "      <td>60902</td>\n",
              "      <td>Elbonia</td>\n",
              "      <td>Gondal</td>\n",
              "      <td>1000027_1</td>\n",
              "    </tr>\n",
              "    <tr>\n",
              "      <th>3</th>\n",
              "      <td>2016-08-18</td>\n",
              "      <td>2016-08-21</td>\n",
              "      <td>30628</td>\n",
              "      <td>Elbonia</td>\n",
              "      <td>Gondal</td>\n",
              "      <td>1000027_1</td>\n",
              "    </tr>\n",
              "    <tr>\n",
              "      <th>4</th>\n",
              "      <td>2016-04-09</td>\n",
              "      <td>2016-04-11</td>\n",
              "      <td>38677</td>\n",
              "      <td>Gondal</td>\n",
              "      <td>Cobra Island</td>\n",
              "      <td>1000033_1</td>\n",
              "    </tr>\n",
              "  </tbody>\n",
              "</table>\n",
              "</div>\n",
              "      <button class=\"colab-df-convert\" onclick=\"convertToInteractive('df-3aa93ba5-f3d8-4684-85d7-185c2cb26137')\"\n",
              "              title=\"Convert this dataframe to an interactive table.\"\n",
              "              style=\"display:none;\">\n",
              "        \n",
              "  <svg xmlns=\"http://www.w3.org/2000/svg\" height=\"24px\"viewBox=\"0 0 24 24\"\n",
              "       width=\"24px\">\n",
              "    <path d=\"M0 0h24v24H0V0z\" fill=\"none\"/>\n",
              "    <path d=\"M18.56 5.44l.94 2.06.94-2.06 2.06-.94-2.06-.94-.94-2.06-.94 2.06-2.06.94zm-11 1L8.5 8.5l.94-2.06 2.06-.94-2.06-.94L8.5 2.5l-.94 2.06-2.06.94zm10 10l.94 2.06.94-2.06 2.06-.94-2.06-.94-.94-2.06-.94 2.06-2.06.94z\"/><path d=\"M17.41 7.96l-1.37-1.37c-.4-.4-.92-.59-1.43-.59-.52 0-1.04.2-1.43.59L10.3 9.45l-7.72 7.72c-.78.78-.78 2.05 0 2.83L4 21.41c.39.39.9.59 1.41.59.51 0 1.02-.2 1.41-.59l7.78-7.78 2.81-2.81c.8-.78.8-2.07 0-2.86zM5.41 20L4 18.59l7.72-7.72 1.47 1.35L5.41 20z\"/>\n",
              "  </svg>\n",
              "      </button>\n",
              "      \n",
              "  <style>\n",
              "    .colab-df-container {\n",
              "      display:flex;\n",
              "      flex-wrap:wrap;\n",
              "      gap: 12px;\n",
              "    }\n",
              "\n",
              "    .colab-df-convert {\n",
              "      background-color: #E8F0FE;\n",
              "      border: none;\n",
              "      border-radius: 50%;\n",
              "      cursor: pointer;\n",
              "      display: none;\n",
              "      fill: #1967D2;\n",
              "      height: 32px;\n",
              "      padding: 0 0 0 0;\n",
              "      width: 32px;\n",
              "    }\n",
              "\n",
              "    .colab-df-convert:hover {\n",
              "      background-color: #E2EBFA;\n",
              "      box-shadow: 0px 1px 2px rgba(60, 64, 67, 0.3), 0px 1px 3px 1px rgba(60, 64, 67, 0.15);\n",
              "      fill: #174EA6;\n",
              "    }\n",
              "\n",
              "    [theme=dark] .colab-df-convert {\n",
              "      background-color: #3B4455;\n",
              "      fill: #D2E3FC;\n",
              "    }\n",
              "\n",
              "    [theme=dark] .colab-df-convert:hover {\n",
              "      background-color: #434B5C;\n",
              "      box-shadow: 0px 1px 3px 1px rgba(0, 0, 0, 0.15);\n",
              "      filter: drop-shadow(0px 1px 2px rgba(0, 0, 0, 0.3));\n",
              "      fill: #FFFFFF;\n",
              "    }\n",
              "  </style>\n",
              "\n",
              "      <script>\n",
              "        const buttonEl =\n",
              "          document.querySelector('#df-3aa93ba5-f3d8-4684-85d7-185c2cb26137 button.colab-df-convert');\n",
              "        buttonEl.style.display =\n",
              "          google.colab.kernel.accessAllowed ? 'block' : 'none';\n",
              "\n",
              "        async function convertToInteractive(key) {\n",
              "          const element = document.querySelector('#df-3aa93ba5-f3d8-4684-85d7-185c2cb26137');\n",
              "          const dataTable =\n",
              "            await google.colab.kernel.invokeFunction('convertToInteractive',\n",
              "                                                     [key], {});\n",
              "          if (!dataTable) return;\n",
              "\n",
              "          const docLinkHtml = 'Like what you see? Visit the ' +\n",
              "            '<a target=\"_blank\" href=https://colab.research.google.com/notebooks/data_table.ipynb>data table notebook</a>'\n",
              "            + ' to learn more about interactive tables.';\n",
              "          element.innerHTML = '';\n",
              "          dataTable['output_type'] = 'display_data';\n",
              "          await google.colab.output.renderOutput(dataTable, element);\n",
              "          const docLink = document.createElement('div');\n",
              "          docLink.innerHTML = docLinkHtml;\n",
              "          element.appendChild(docLink);\n",
              "        }\n",
              "      </script>\n",
              "    </div>\n",
              "  </div>\n",
              "  "
            ]
          },
          "metadata": {},
          "execution_count": 26
        }
      ],
      "source": [
        "df.head()\n"
      ]
    },
    {
      "cell_type": "code",
      "execution_count": 27,
      "metadata": {
        "id": "xArqI1QpqS_r",
        "colab": {
          "base_uri": "https://localhost:8080/"
        },
        "outputId": "5d2f84a5-f0dd-4a4c-cdbf-2ddf39691cbc"
      },
      "outputs": [
        {
          "output_type": "stream",
          "name": "stdout",
          "text": [
            "There is 217686 different trips\n",
            "We will use 5% in our test set: 10884\n"
          ]
        }
      ],
      "source": [
        "import random\n",
        "random.seed(42)\n",
        "print(f\"There is {df.utrip_id.nunique()} different trips\")\n",
        "n_samples = int(np.round(df.utrip_id.nunique() * 0.05))\n",
        "print(f'We will use 5% in our test set: {n_samples}')\n",
        "\n",
        "\n",
        "test_index = random.sample(list(df.utrip_id.unique()), n_samples)\n"
      ]
    },
    {
      "cell_type": "code",
      "execution_count": 28,
      "metadata": {
        "id": "g9JdPJ6ZqS_r"
      },
      "outputs": [],
      "source": [
        "# Split between test and train data\n",
        "test_set = df.loc[df.utrip_id.isin(test_index)]\n",
        "train_set = df.loc[np.invert(df.utrip_id.isin(test_index))]\n"
      ]
    },
    {
      "cell_type": "code",
      "execution_count": 29,
      "metadata": {
        "id": "QlFhNNgEqS_r",
        "colab": {
          "base_uri": "https://localhost:8080/"
        },
        "outputId": "d269b0eb-90b3-4a8d-afd8-1b4deda82068"
      },
      "outputs": [
        {
          "output_type": "stream",
          "name": "stdout",
          "text": [
            "We kept 39265 different cities in our train set\n"
          ]
        }
      ],
      "source": [
        "print(\n",
        "    f\"We kept {train_set.city_id.nunique()} different cities in our train set\")\n"
      ]
    },
    {
      "cell_type": "code",
      "execution_count": 30,
      "metadata": {
        "id": "UG17IBmPqS_r"
      },
      "outputs": [],
      "source": [
        "# reset index\n",
        "test_set.reset_index(drop=True, inplace=True)\n"
      ]
    },
    {
      "cell_type": "code",
      "execution_count": 31,
      "metadata": {
        "id": "AqWPK6DaqS_r"
      },
      "outputs": [],
      "source": [
        "# Let's hide targets of test set\n",
        "test_set[\"is_new_trip\"] = test_set[[\"utrip_id\"]].shift() != test_set[[\n",
        "    \"utrip_id\"]]\n",
        "\n",
        "# Start of the trips - 1\n",
        "end_of_trips = np.array(test_set.loc[test_set.is_new_trip].index) - 1\n",
        "# We remove first element\n",
        "end_of_trips = end_of_trips[1:]\n",
        "# And add the last one\n",
        "end_of_trips = np.append(end_of_trips, test_set.index[-1])\n",
        "\n",
        "test_set[\"is_target\"] = test_set.index.isin(end_of_trips)\n"
      ]
    },
    {
      "cell_type": "code",
      "execution_count": 32,
      "metadata": {
        "id": "fxlbPqyZqS_r",
        "colab": {
          "base_uri": "https://localhost:8080/",
          "height": 424
        },
        "outputId": "1a566e17-3a83-479d-ba86-a5acee707610"
      },
      "outputs": [
        {
          "output_type": "execute_result",
          "data": {
            "text/plain": [
              "        utrip_id        hotel_country  city_id\n",
              "10     1000682_1              Patusan     1910\n",
              "14      100119_4            Chernarus     7823\n",
              "18     1001347_1             Bartovia    42255\n",
              "22     1001433_1               Gondal    47470\n",
              "26     1002170_2              Elbonia    50343\n",
              "...          ...                  ...      ...\n",
              "58236   998369_2               Gondal    15626\n",
              "58240   999122_1              Sokovia     6582\n",
              "58252   999607_1  Merania, Kingdom of    31531\n",
              "58256    99967_1         Glubbdubdrib    66648\n",
              "58260   999755_1          Fook Island     9608\n",
              "\n",
              "[10884 rows x 3 columns]"
            ],
            "text/html": [
              "\n",
              "  <div id=\"df-e207ff0d-5047-4c6b-a988-efaa4d03e821\">\n",
              "    <div class=\"colab-df-container\">\n",
              "      <div>\n",
              "<style scoped>\n",
              "    .dataframe tbody tr th:only-of-type {\n",
              "        vertical-align: middle;\n",
              "    }\n",
              "\n",
              "    .dataframe tbody tr th {\n",
              "        vertical-align: top;\n",
              "    }\n",
              "\n",
              "    .dataframe thead th {\n",
              "        text-align: right;\n",
              "    }\n",
              "</style>\n",
              "<table border=\"1\" class=\"dataframe\">\n",
              "  <thead>\n",
              "    <tr style=\"text-align: right;\">\n",
              "      <th></th>\n",
              "      <th>utrip_id</th>\n",
              "      <th>hotel_country</th>\n",
              "      <th>city_id</th>\n",
              "    </tr>\n",
              "  </thead>\n",
              "  <tbody>\n",
              "    <tr>\n",
              "      <th>10</th>\n",
              "      <td>1000682_1</td>\n",
              "      <td>Patusan</td>\n",
              "      <td>1910</td>\n",
              "    </tr>\n",
              "    <tr>\n",
              "      <th>14</th>\n",
              "      <td>100119_4</td>\n",
              "      <td>Chernarus</td>\n",
              "      <td>7823</td>\n",
              "    </tr>\n",
              "    <tr>\n",
              "      <th>18</th>\n",
              "      <td>1001347_1</td>\n",
              "      <td>Bartovia</td>\n",
              "      <td>42255</td>\n",
              "    </tr>\n",
              "    <tr>\n",
              "      <th>22</th>\n",
              "      <td>1001433_1</td>\n",
              "      <td>Gondal</td>\n",
              "      <td>47470</td>\n",
              "    </tr>\n",
              "    <tr>\n",
              "      <th>26</th>\n",
              "      <td>1002170_2</td>\n",
              "      <td>Elbonia</td>\n",
              "      <td>50343</td>\n",
              "    </tr>\n",
              "    <tr>\n",
              "      <th>...</th>\n",
              "      <td>...</td>\n",
              "      <td>...</td>\n",
              "      <td>...</td>\n",
              "    </tr>\n",
              "    <tr>\n",
              "      <th>58236</th>\n",
              "      <td>998369_2</td>\n",
              "      <td>Gondal</td>\n",
              "      <td>15626</td>\n",
              "    </tr>\n",
              "    <tr>\n",
              "      <th>58240</th>\n",
              "      <td>999122_1</td>\n",
              "      <td>Sokovia</td>\n",
              "      <td>6582</td>\n",
              "    </tr>\n",
              "    <tr>\n",
              "      <th>58252</th>\n",
              "      <td>999607_1</td>\n",
              "      <td>Merania, Kingdom of</td>\n",
              "      <td>31531</td>\n",
              "    </tr>\n",
              "    <tr>\n",
              "      <th>58256</th>\n",
              "      <td>99967_1</td>\n",
              "      <td>Glubbdubdrib</td>\n",
              "      <td>66648</td>\n",
              "    </tr>\n",
              "    <tr>\n",
              "      <th>58260</th>\n",
              "      <td>999755_1</td>\n",
              "      <td>Fook Island</td>\n",
              "      <td>9608</td>\n",
              "    </tr>\n",
              "  </tbody>\n",
              "</table>\n",
              "<p>10884 rows × 3 columns</p>\n",
              "</div>\n",
              "      <button class=\"colab-df-convert\" onclick=\"convertToInteractive('df-e207ff0d-5047-4c6b-a988-efaa4d03e821')\"\n",
              "              title=\"Convert this dataframe to an interactive table.\"\n",
              "              style=\"display:none;\">\n",
              "        \n",
              "  <svg xmlns=\"http://www.w3.org/2000/svg\" height=\"24px\"viewBox=\"0 0 24 24\"\n",
              "       width=\"24px\">\n",
              "    <path d=\"M0 0h24v24H0V0z\" fill=\"none\"/>\n",
              "    <path d=\"M18.56 5.44l.94 2.06.94-2.06 2.06-.94-2.06-.94-.94-2.06-.94 2.06-2.06.94zm-11 1L8.5 8.5l.94-2.06 2.06-.94-2.06-.94L8.5 2.5l-.94 2.06-2.06.94zm10 10l.94 2.06.94-2.06 2.06-.94-2.06-.94-.94-2.06-.94 2.06-2.06.94z\"/><path d=\"M17.41 7.96l-1.37-1.37c-.4-.4-.92-.59-1.43-.59-.52 0-1.04.2-1.43.59L10.3 9.45l-7.72 7.72c-.78.78-.78 2.05 0 2.83L4 21.41c.39.39.9.59 1.41.59.51 0 1.02-.2 1.41-.59l7.78-7.78 2.81-2.81c.8-.78.8-2.07 0-2.86zM5.41 20L4 18.59l7.72-7.72 1.47 1.35L5.41 20z\"/>\n",
              "  </svg>\n",
              "      </button>\n",
              "      \n",
              "  <style>\n",
              "    .colab-df-container {\n",
              "      display:flex;\n",
              "      flex-wrap:wrap;\n",
              "      gap: 12px;\n",
              "    }\n",
              "\n",
              "    .colab-df-convert {\n",
              "      background-color: #E8F0FE;\n",
              "      border: none;\n",
              "      border-radius: 50%;\n",
              "      cursor: pointer;\n",
              "      display: none;\n",
              "      fill: #1967D2;\n",
              "      height: 32px;\n",
              "      padding: 0 0 0 0;\n",
              "      width: 32px;\n",
              "    }\n",
              "\n",
              "    .colab-df-convert:hover {\n",
              "      background-color: #E2EBFA;\n",
              "      box-shadow: 0px 1px 2px rgba(60, 64, 67, 0.3), 0px 1px 3px 1px rgba(60, 64, 67, 0.15);\n",
              "      fill: #174EA6;\n",
              "    }\n",
              "\n",
              "    [theme=dark] .colab-df-convert {\n",
              "      background-color: #3B4455;\n",
              "      fill: #D2E3FC;\n",
              "    }\n",
              "\n",
              "    [theme=dark] .colab-df-convert:hover {\n",
              "      background-color: #434B5C;\n",
              "      box-shadow: 0px 1px 3px 1px rgba(0, 0, 0, 0.15);\n",
              "      filter: drop-shadow(0px 1px 2px rgba(0, 0, 0, 0.3));\n",
              "      fill: #FFFFFF;\n",
              "    }\n",
              "  </style>\n",
              "\n",
              "      <script>\n",
              "        const buttonEl =\n",
              "          document.querySelector('#df-e207ff0d-5047-4c6b-a988-efaa4d03e821 button.colab-df-convert');\n",
              "        buttonEl.style.display =\n",
              "          google.colab.kernel.accessAllowed ? 'block' : 'none';\n",
              "\n",
              "        async function convertToInteractive(key) {\n",
              "          const element = document.querySelector('#df-e207ff0d-5047-4c6b-a988-efaa4d03e821');\n",
              "          const dataTable =\n",
              "            await google.colab.kernel.invokeFunction('convertToInteractive',\n",
              "                                                     [key], {});\n",
              "          if (!dataTable) return;\n",
              "\n",
              "          const docLinkHtml = 'Like what you see? Visit the ' +\n",
              "            '<a target=\"_blank\" href=https://colab.research.google.com/notebooks/data_table.ipynb>data table notebook</a>'\n",
              "            + ' to learn more about interactive tables.';\n",
              "          element.innerHTML = '';\n",
              "          dataTable['output_type'] = 'display_data';\n",
              "          await google.colab.output.renderOutput(dataTable, element);\n",
              "          const docLink = document.createElement('div');\n",
              "          docLink.innerHTML = docLinkHtml;\n",
              "          element.appendChild(docLink);\n",
              "        }\n",
              "      </script>\n",
              "    </div>\n",
              "  </div>\n",
              "  "
            ]
          },
          "metadata": {},
          "execution_count": 32
        }
      ],
      "source": [
        "# Save targets\n",
        "y_test = test_set.loc[test_set.is_target][[\n",
        "    \"utrip_id\", \"hotel_country\", \"city_id\"]]\n",
        "y_test\n"
      ]
    },
    {
      "cell_type": "code",
      "execution_count": 33,
      "metadata": {
        "id": "Zzm25zasqS_s"
      },
      "outputs": [],
      "source": [
        "# hide hotel country and city_id in test set df\n",
        "test_set.loc[test_set.is_target, 'hotel_country'] = \"?\"\n",
        "test_set.loc[test_set.is_target, 'city_id'] = \"?\"\n"
      ]
    },
    {
      "cell_type": "code",
      "execution_count": 34,
      "metadata": {
        "id": "QUjCFSdLqS_s",
        "colab": {
          "base_uri": "https://localhost:8080/",
          "height": 206
        },
        "outputId": "50261393-e638-4055-c6ac-9013863f9add"
      },
      "outputs": [
        {
          "output_type": "execute_result",
          "data": {
            "text/plain": [
              "      checkin    checkout city_id        booker_country hotel_country  \\\n",
              "0  2017-02-03  2017-02-04   60143  The Devilfire Empire       Patusan   \n",
              "1  2017-02-04  2017-02-05   65015  The Devilfire Empire       Patusan   \n",
              "2  2017-02-05  2017-02-07   46883  The Devilfire Empire       Patusan   \n",
              "3  2017-02-07  2017-02-08    7663  The Devilfire Empire       Patusan   \n",
              "4  2017-02-08  2017-02-09   40871  The Devilfire Empire       Patusan   \n",
              "\n",
              "    utrip_id  is_new_trip  is_target  \n",
              "0  1000682_1         True      False  \n",
              "1  1000682_1        False      False  \n",
              "2  1000682_1        False      False  \n",
              "3  1000682_1        False      False  \n",
              "4  1000682_1        False      False  "
            ],
            "text/html": [
              "\n",
              "  <div id=\"df-8dd05f8f-9ea0-4008-9878-7aa96cefc68b\">\n",
              "    <div class=\"colab-df-container\">\n",
              "      <div>\n",
              "<style scoped>\n",
              "    .dataframe tbody tr th:only-of-type {\n",
              "        vertical-align: middle;\n",
              "    }\n",
              "\n",
              "    .dataframe tbody tr th {\n",
              "        vertical-align: top;\n",
              "    }\n",
              "\n",
              "    .dataframe thead th {\n",
              "        text-align: right;\n",
              "    }\n",
              "</style>\n",
              "<table border=\"1\" class=\"dataframe\">\n",
              "  <thead>\n",
              "    <tr style=\"text-align: right;\">\n",
              "      <th></th>\n",
              "      <th>checkin</th>\n",
              "      <th>checkout</th>\n",
              "      <th>city_id</th>\n",
              "      <th>booker_country</th>\n",
              "      <th>hotel_country</th>\n",
              "      <th>utrip_id</th>\n",
              "      <th>is_new_trip</th>\n",
              "      <th>is_target</th>\n",
              "    </tr>\n",
              "  </thead>\n",
              "  <tbody>\n",
              "    <tr>\n",
              "      <th>0</th>\n",
              "      <td>2017-02-03</td>\n",
              "      <td>2017-02-04</td>\n",
              "      <td>60143</td>\n",
              "      <td>The Devilfire Empire</td>\n",
              "      <td>Patusan</td>\n",
              "      <td>1000682_1</td>\n",
              "      <td>True</td>\n",
              "      <td>False</td>\n",
              "    </tr>\n",
              "    <tr>\n",
              "      <th>1</th>\n",
              "      <td>2017-02-04</td>\n",
              "      <td>2017-02-05</td>\n",
              "      <td>65015</td>\n",
              "      <td>The Devilfire Empire</td>\n",
              "      <td>Patusan</td>\n",
              "      <td>1000682_1</td>\n",
              "      <td>False</td>\n",
              "      <td>False</td>\n",
              "    </tr>\n",
              "    <tr>\n",
              "      <th>2</th>\n",
              "      <td>2017-02-05</td>\n",
              "      <td>2017-02-07</td>\n",
              "      <td>46883</td>\n",
              "      <td>The Devilfire Empire</td>\n",
              "      <td>Patusan</td>\n",
              "      <td>1000682_1</td>\n",
              "      <td>False</td>\n",
              "      <td>False</td>\n",
              "    </tr>\n",
              "    <tr>\n",
              "      <th>3</th>\n",
              "      <td>2017-02-07</td>\n",
              "      <td>2017-02-08</td>\n",
              "      <td>7663</td>\n",
              "      <td>The Devilfire Empire</td>\n",
              "      <td>Patusan</td>\n",
              "      <td>1000682_1</td>\n",
              "      <td>False</td>\n",
              "      <td>False</td>\n",
              "    </tr>\n",
              "    <tr>\n",
              "      <th>4</th>\n",
              "      <td>2017-02-08</td>\n",
              "      <td>2017-02-09</td>\n",
              "      <td>40871</td>\n",
              "      <td>The Devilfire Empire</td>\n",
              "      <td>Patusan</td>\n",
              "      <td>1000682_1</td>\n",
              "      <td>False</td>\n",
              "      <td>False</td>\n",
              "    </tr>\n",
              "  </tbody>\n",
              "</table>\n",
              "</div>\n",
              "      <button class=\"colab-df-convert\" onclick=\"convertToInteractive('df-8dd05f8f-9ea0-4008-9878-7aa96cefc68b')\"\n",
              "              title=\"Convert this dataframe to an interactive table.\"\n",
              "              style=\"display:none;\">\n",
              "        \n",
              "  <svg xmlns=\"http://www.w3.org/2000/svg\" height=\"24px\"viewBox=\"0 0 24 24\"\n",
              "       width=\"24px\">\n",
              "    <path d=\"M0 0h24v24H0V0z\" fill=\"none\"/>\n",
              "    <path d=\"M18.56 5.44l.94 2.06.94-2.06 2.06-.94-2.06-.94-.94-2.06-.94 2.06-2.06.94zm-11 1L8.5 8.5l.94-2.06 2.06-.94-2.06-.94L8.5 2.5l-.94 2.06-2.06.94zm10 10l.94 2.06.94-2.06 2.06-.94-2.06-.94-.94-2.06-.94 2.06-2.06.94z\"/><path d=\"M17.41 7.96l-1.37-1.37c-.4-.4-.92-.59-1.43-.59-.52 0-1.04.2-1.43.59L10.3 9.45l-7.72 7.72c-.78.78-.78 2.05 0 2.83L4 21.41c.39.39.9.59 1.41.59.51 0 1.02-.2 1.41-.59l7.78-7.78 2.81-2.81c.8-.78.8-2.07 0-2.86zM5.41 20L4 18.59l7.72-7.72 1.47 1.35L5.41 20z\"/>\n",
              "  </svg>\n",
              "      </button>\n",
              "      \n",
              "  <style>\n",
              "    .colab-df-container {\n",
              "      display:flex;\n",
              "      flex-wrap:wrap;\n",
              "      gap: 12px;\n",
              "    }\n",
              "\n",
              "    .colab-df-convert {\n",
              "      background-color: #E8F0FE;\n",
              "      border: none;\n",
              "      border-radius: 50%;\n",
              "      cursor: pointer;\n",
              "      display: none;\n",
              "      fill: #1967D2;\n",
              "      height: 32px;\n",
              "      padding: 0 0 0 0;\n",
              "      width: 32px;\n",
              "    }\n",
              "\n",
              "    .colab-df-convert:hover {\n",
              "      background-color: #E2EBFA;\n",
              "      box-shadow: 0px 1px 2px rgba(60, 64, 67, 0.3), 0px 1px 3px 1px rgba(60, 64, 67, 0.15);\n",
              "      fill: #174EA6;\n",
              "    }\n",
              "\n",
              "    [theme=dark] .colab-df-convert {\n",
              "      background-color: #3B4455;\n",
              "      fill: #D2E3FC;\n",
              "    }\n",
              "\n",
              "    [theme=dark] .colab-df-convert:hover {\n",
              "      background-color: #434B5C;\n",
              "      box-shadow: 0px 1px 3px 1px rgba(0, 0, 0, 0.15);\n",
              "      filter: drop-shadow(0px 1px 2px rgba(0, 0, 0, 0.3));\n",
              "      fill: #FFFFFF;\n",
              "    }\n",
              "  </style>\n",
              "\n",
              "      <script>\n",
              "        const buttonEl =\n",
              "          document.querySelector('#df-8dd05f8f-9ea0-4008-9878-7aa96cefc68b button.colab-df-convert');\n",
              "        buttonEl.style.display =\n",
              "          google.colab.kernel.accessAllowed ? 'block' : 'none';\n",
              "\n",
              "        async function convertToInteractive(key) {\n",
              "          const element = document.querySelector('#df-8dd05f8f-9ea0-4008-9878-7aa96cefc68b');\n",
              "          const dataTable =\n",
              "            await google.colab.kernel.invokeFunction('convertToInteractive',\n",
              "                                                     [key], {});\n",
              "          if (!dataTable) return;\n",
              "\n",
              "          const docLinkHtml = 'Like what you see? Visit the ' +\n",
              "            '<a target=\"_blank\" href=https://colab.research.google.com/notebooks/data_table.ipynb>data table notebook</a>'\n",
              "            + ' to learn more about interactive tables.';\n",
              "          element.innerHTML = '';\n",
              "          dataTable['output_type'] = 'display_data';\n",
              "          await google.colab.output.renderOutput(dataTable, element);\n",
              "          const docLink = document.createElement('div');\n",
              "          docLink.innerHTML = docLinkHtml;\n",
              "          element.appendChild(docLink);\n",
              "        }\n",
              "      </script>\n",
              "    </div>\n",
              "  </div>\n",
              "  "
            ]
          },
          "metadata": {},
          "execution_count": 34
        }
      ],
      "source": [
        "test_set.head()\n"
      ]
    },
    {
      "cell_type": "code",
      "execution_count": 35,
      "metadata": {
        "id": "0vDFkEz5qS_s"
      },
      "outputs": [],
      "source": [
        "# Save test set for later\n",
        "with open(path+\"test_data.pkl\", \"wb\") as f:\n",
        "    pickle.dump([test_set, y_test], f)\n"
      ]
    },
    {
      "cell_type": "markdown",
      "metadata": {
        "id": "cqpc0K5uqS_s"
      },
      "source": [
        "Refining the train and validation set\n"
      ]
    },
    {
      "cell_type": "code",
      "execution_count": 36,
      "metadata": {
        "id": "mNg9Z7VTqS_s"
      },
      "outputs": [],
      "source": [
        "df = train_set\n"
      ]
    },
    {
      "cell_type": "code",
      "execution_count": 37,
      "metadata": {
        "id": "m-7NEWtoqS_s",
        "colab": {
          "base_uri": "https://localhost:8080/",
          "height": 424
        },
        "outputId": "65dafa5c-69fa-4cbe-be1b-372680cb4c2f"
      },
      "outputs": [
        {
          "output_type": "execute_result",
          "data": {
            "text/plain": [
              "            checkin    checkout  city_id booker_country hotel_country  \\\n",
              "0        2016-08-13  2016-08-14     8183        Elbonia        Gondal   \n",
              "1        2016-08-14  2016-08-16    15626        Elbonia        Gondal   \n",
              "2        2016-08-16  2016-08-18    60902        Elbonia        Gondal   \n",
              "3        2016-08-18  2016-08-21    30628        Elbonia        Gondal   \n",
              "4        2016-04-09  2016-04-11    38677         Gondal  Cobra Island   \n",
              "...             ...         ...      ...            ...           ...   \n",
              "1166830  2016-05-01  2016-05-02    20345         Gondal   Fook Island   \n",
              "1166831  2016-06-23  2016-06-24    17944         Gondal  Glubbdubdrib   \n",
              "1166832  2016-06-24  2016-06-27    47075         Gondal  Glubbdubdrib   \n",
              "1166833  2016-06-27  2016-06-29      228         Gondal  Glubbdubdrib   \n",
              "1166834  2016-06-29  2016-06-30    62930         Gondal  Glubbdubdrib   \n",
              "\n",
              "          utrip_id  \n",
              "0        1000027_1  \n",
              "1        1000027_1  \n",
              "2        1000027_1  \n",
              "3        1000027_1  \n",
              "4        1000033_1  \n",
              "...            ...  \n",
              "1166830   999855_1  \n",
              "1166831   999944_1  \n",
              "1166832   999944_1  \n",
              "1166833   999944_1  \n",
              "1166834   999944_1  \n",
              "\n",
              "[1108574 rows x 6 columns]"
            ],
            "text/html": [
              "\n",
              "  <div id=\"df-3dc2420f-faf0-4319-b64e-1c332dc445d0\">\n",
              "    <div class=\"colab-df-container\">\n",
              "      <div>\n",
              "<style scoped>\n",
              "    .dataframe tbody tr th:only-of-type {\n",
              "        vertical-align: middle;\n",
              "    }\n",
              "\n",
              "    .dataframe tbody tr th {\n",
              "        vertical-align: top;\n",
              "    }\n",
              "\n",
              "    .dataframe thead th {\n",
              "        text-align: right;\n",
              "    }\n",
              "</style>\n",
              "<table border=\"1\" class=\"dataframe\">\n",
              "  <thead>\n",
              "    <tr style=\"text-align: right;\">\n",
              "      <th></th>\n",
              "      <th>checkin</th>\n",
              "      <th>checkout</th>\n",
              "      <th>city_id</th>\n",
              "      <th>booker_country</th>\n",
              "      <th>hotel_country</th>\n",
              "      <th>utrip_id</th>\n",
              "    </tr>\n",
              "  </thead>\n",
              "  <tbody>\n",
              "    <tr>\n",
              "      <th>0</th>\n",
              "      <td>2016-08-13</td>\n",
              "      <td>2016-08-14</td>\n",
              "      <td>8183</td>\n",
              "      <td>Elbonia</td>\n",
              "      <td>Gondal</td>\n",
              "      <td>1000027_1</td>\n",
              "    </tr>\n",
              "    <tr>\n",
              "      <th>1</th>\n",
              "      <td>2016-08-14</td>\n",
              "      <td>2016-08-16</td>\n",
              "      <td>15626</td>\n",
              "      <td>Elbonia</td>\n",
              "      <td>Gondal</td>\n",
              "      <td>1000027_1</td>\n",
              "    </tr>\n",
              "    <tr>\n",
              "      <th>2</th>\n",
              "      <td>2016-08-16</td>\n",
              "      <td>2016-08-18</td>\n",
              "      <td>60902</td>\n",
              "      <td>Elbonia</td>\n",
              "      <td>Gondal</td>\n",
              "      <td>1000027_1</td>\n",
              "    </tr>\n",
              "    <tr>\n",
              "      <th>3</th>\n",
              "      <td>2016-08-18</td>\n",
              "      <td>2016-08-21</td>\n",
              "      <td>30628</td>\n",
              "      <td>Elbonia</td>\n",
              "      <td>Gondal</td>\n",
              "      <td>1000027_1</td>\n",
              "    </tr>\n",
              "    <tr>\n",
              "      <th>4</th>\n",
              "      <td>2016-04-09</td>\n",
              "      <td>2016-04-11</td>\n",
              "      <td>38677</td>\n",
              "      <td>Gondal</td>\n",
              "      <td>Cobra Island</td>\n",
              "      <td>1000033_1</td>\n",
              "    </tr>\n",
              "    <tr>\n",
              "      <th>...</th>\n",
              "      <td>...</td>\n",
              "      <td>...</td>\n",
              "      <td>...</td>\n",
              "      <td>...</td>\n",
              "      <td>...</td>\n",
              "      <td>...</td>\n",
              "    </tr>\n",
              "    <tr>\n",
              "      <th>1166830</th>\n",
              "      <td>2016-05-01</td>\n",
              "      <td>2016-05-02</td>\n",
              "      <td>20345</td>\n",
              "      <td>Gondal</td>\n",
              "      <td>Fook Island</td>\n",
              "      <td>999855_1</td>\n",
              "    </tr>\n",
              "    <tr>\n",
              "      <th>1166831</th>\n",
              "      <td>2016-06-23</td>\n",
              "      <td>2016-06-24</td>\n",
              "      <td>17944</td>\n",
              "      <td>Gondal</td>\n",
              "      <td>Glubbdubdrib</td>\n",
              "      <td>999944_1</td>\n",
              "    </tr>\n",
              "    <tr>\n",
              "      <th>1166832</th>\n",
              "      <td>2016-06-24</td>\n",
              "      <td>2016-06-27</td>\n",
              "      <td>47075</td>\n",
              "      <td>Gondal</td>\n",
              "      <td>Glubbdubdrib</td>\n",
              "      <td>999944_1</td>\n",
              "    </tr>\n",
              "    <tr>\n",
              "      <th>1166833</th>\n",
              "      <td>2016-06-27</td>\n",
              "      <td>2016-06-29</td>\n",
              "      <td>228</td>\n",
              "      <td>Gondal</td>\n",
              "      <td>Glubbdubdrib</td>\n",
              "      <td>999944_1</td>\n",
              "    </tr>\n",
              "    <tr>\n",
              "      <th>1166834</th>\n",
              "      <td>2016-06-29</td>\n",
              "      <td>2016-06-30</td>\n",
              "      <td>62930</td>\n",
              "      <td>Gondal</td>\n",
              "      <td>Glubbdubdrib</td>\n",
              "      <td>999944_1</td>\n",
              "    </tr>\n",
              "  </tbody>\n",
              "</table>\n",
              "<p>1108574 rows × 6 columns</p>\n",
              "</div>\n",
              "      <button class=\"colab-df-convert\" onclick=\"convertToInteractive('df-3dc2420f-faf0-4319-b64e-1c332dc445d0')\"\n",
              "              title=\"Convert this dataframe to an interactive table.\"\n",
              "              style=\"display:none;\">\n",
              "        \n",
              "  <svg xmlns=\"http://www.w3.org/2000/svg\" height=\"24px\"viewBox=\"0 0 24 24\"\n",
              "       width=\"24px\">\n",
              "    <path d=\"M0 0h24v24H0V0z\" fill=\"none\"/>\n",
              "    <path d=\"M18.56 5.44l.94 2.06.94-2.06 2.06-.94-2.06-.94-.94-2.06-.94 2.06-2.06.94zm-11 1L8.5 8.5l.94-2.06 2.06-.94-2.06-.94L8.5 2.5l-.94 2.06-2.06.94zm10 10l.94 2.06.94-2.06 2.06-.94-2.06-.94-.94-2.06-.94 2.06-2.06.94z\"/><path d=\"M17.41 7.96l-1.37-1.37c-.4-.4-.92-.59-1.43-.59-.52 0-1.04.2-1.43.59L10.3 9.45l-7.72 7.72c-.78.78-.78 2.05 0 2.83L4 21.41c.39.39.9.59 1.41.59.51 0 1.02-.2 1.41-.59l7.78-7.78 2.81-2.81c.8-.78.8-2.07 0-2.86zM5.41 20L4 18.59l7.72-7.72 1.47 1.35L5.41 20z\"/>\n",
              "  </svg>\n",
              "      </button>\n",
              "      \n",
              "  <style>\n",
              "    .colab-df-container {\n",
              "      display:flex;\n",
              "      flex-wrap:wrap;\n",
              "      gap: 12px;\n",
              "    }\n",
              "\n",
              "    .colab-df-convert {\n",
              "      background-color: #E8F0FE;\n",
              "      border: none;\n",
              "      border-radius: 50%;\n",
              "      cursor: pointer;\n",
              "      display: none;\n",
              "      fill: #1967D2;\n",
              "      height: 32px;\n",
              "      padding: 0 0 0 0;\n",
              "      width: 32px;\n",
              "    }\n",
              "\n",
              "    .colab-df-convert:hover {\n",
              "      background-color: #E2EBFA;\n",
              "      box-shadow: 0px 1px 2px rgba(60, 64, 67, 0.3), 0px 1px 3px 1px rgba(60, 64, 67, 0.15);\n",
              "      fill: #174EA6;\n",
              "    }\n",
              "\n",
              "    [theme=dark] .colab-df-convert {\n",
              "      background-color: #3B4455;\n",
              "      fill: #D2E3FC;\n",
              "    }\n",
              "\n",
              "    [theme=dark] .colab-df-convert:hover {\n",
              "      background-color: #434B5C;\n",
              "      box-shadow: 0px 1px 3px 1px rgba(0, 0, 0, 0.15);\n",
              "      filter: drop-shadow(0px 1px 2px rgba(0, 0, 0, 0.3));\n",
              "      fill: #FFFFFF;\n",
              "    }\n",
              "  </style>\n",
              "\n",
              "      <script>\n",
              "        const buttonEl =\n",
              "          document.querySelector('#df-3dc2420f-faf0-4319-b64e-1c332dc445d0 button.colab-df-convert');\n",
              "        buttonEl.style.display =\n",
              "          google.colab.kernel.accessAllowed ? 'block' : 'none';\n",
              "\n",
              "        async function convertToInteractive(key) {\n",
              "          const element = document.querySelector('#df-3dc2420f-faf0-4319-b64e-1c332dc445d0');\n",
              "          const dataTable =\n",
              "            await google.colab.kernel.invokeFunction('convertToInteractive',\n",
              "                                                     [key], {});\n",
              "          if (!dataTable) return;\n",
              "\n",
              "          const docLinkHtml = 'Like what you see? Visit the ' +\n",
              "            '<a target=\"_blank\" href=https://colab.research.google.com/notebooks/data_table.ipynb>data table notebook</a>'\n",
              "            + ' to learn more about interactive tables.';\n",
              "          element.innerHTML = '';\n",
              "          dataTable['output_type'] = 'display_data';\n",
              "          await google.colab.output.renderOutput(dataTable, element);\n",
              "          const docLink = document.createElement('div');\n",
              "          docLink.innerHTML = docLinkHtml;\n",
              "          element.appendChild(docLink);\n",
              "        }\n",
              "      </script>\n",
              "    </div>\n",
              "  </div>\n",
              "  "
            ]
          },
          "metadata": {},
          "execution_count": 37
        }
      ],
      "source": [
        "df\n"
      ]
    },
    {
      "cell_type": "markdown",
      "metadata": {
        "id": "DsUdh9UYqS_s"
      },
      "source": [
        "Let's apply some preprocessing\n"
      ]
    },
    {
      "cell_type": "code",
      "execution_count": 38,
      "metadata": {
        "id": "D3_GM8bZqS_s"
      },
      "outputs": [],
      "source": [
        "# Transform dates into datetime format\n",
        "df.checkin = df.checkin.apply(lambda x: datetime.strptime(x, \"%Y-%m-%d\"))\n",
        "df.checkout = df.checkout.apply(lambda x: datetime.strptime(x, \"%Y-%m-%d\"))\n"
      ]
    },
    {
      "cell_type": "code",
      "execution_count": 39,
      "metadata": {
        "id": "uXVj3jj-qS_s",
        "colab": {
          "base_uri": "https://localhost:8080/"
        },
        "outputId": "24316ffa-3912-4c1a-851d-fdb888571825"
      },
      "outputs": [
        {
          "output_type": "execute_result",
          "data": {
            "text/plain": [
              "(Timestamp('2015-12-31 00:00:00'), Timestamp('2017-02-28 00:00:00'))"
            ]
          },
          "metadata": {},
          "execution_count": 39
        }
      ],
      "source": [
        "# Min and max dates\n",
        "df.checkin.min(), df.checkout.max()\n"
      ]
    },
    {
      "cell_type": "code",
      "execution_count": 40,
      "metadata": {
        "id": "yXgnXOSXqS_s",
        "colab": {
          "base_uri": "https://localhost:8080/",
          "height": 424
        },
        "outputId": "155f32cd-a034-4fdc-876c-deb1ca326e09"
      },
      "outputs": [
        {
          "output_type": "execute_result",
          "data": {
            "text/plain": [
              "           checkin   checkout  city_id booker_country hotel_country   utrip_id\n",
              "0       2016-08-13 2016-08-14     8183        Elbonia        Gondal  1000027_1\n",
              "1       2016-08-14 2016-08-16    15626        Elbonia        Gondal  1000027_1\n",
              "2       2016-08-16 2016-08-18    60902        Elbonia        Gondal  1000027_1\n",
              "3       2016-08-18 2016-08-21    30628        Elbonia        Gondal  1000027_1\n",
              "4       2016-04-09 2016-04-11    38677         Gondal  Cobra Island  1000033_1\n",
              "...            ...        ...      ...            ...           ...        ...\n",
              "1166830 2016-05-01 2016-05-02    20345         Gondal   Fook Island   999855_1\n",
              "1166831 2016-06-23 2016-06-24    17944         Gondal  Glubbdubdrib   999944_1\n",
              "1166832 2016-06-24 2016-06-27    47075         Gondal  Glubbdubdrib   999944_1\n",
              "1166833 2016-06-27 2016-06-29      228         Gondal  Glubbdubdrib   999944_1\n",
              "1166834 2016-06-29 2016-06-30    62930         Gondal  Glubbdubdrib   999944_1\n",
              "\n",
              "[1108574 rows x 6 columns]"
            ],
            "text/html": [
              "\n",
              "  <div id=\"df-b9f47c90-77a1-4536-8b20-bf09d48615c0\">\n",
              "    <div class=\"colab-df-container\">\n",
              "      <div>\n",
              "<style scoped>\n",
              "    .dataframe tbody tr th:only-of-type {\n",
              "        vertical-align: middle;\n",
              "    }\n",
              "\n",
              "    .dataframe tbody tr th {\n",
              "        vertical-align: top;\n",
              "    }\n",
              "\n",
              "    .dataframe thead th {\n",
              "        text-align: right;\n",
              "    }\n",
              "</style>\n",
              "<table border=\"1\" class=\"dataframe\">\n",
              "  <thead>\n",
              "    <tr style=\"text-align: right;\">\n",
              "      <th></th>\n",
              "      <th>checkin</th>\n",
              "      <th>checkout</th>\n",
              "      <th>city_id</th>\n",
              "      <th>booker_country</th>\n",
              "      <th>hotel_country</th>\n",
              "      <th>utrip_id</th>\n",
              "    </tr>\n",
              "  </thead>\n",
              "  <tbody>\n",
              "    <tr>\n",
              "      <th>0</th>\n",
              "      <td>2016-08-13</td>\n",
              "      <td>2016-08-14</td>\n",
              "      <td>8183</td>\n",
              "      <td>Elbonia</td>\n",
              "      <td>Gondal</td>\n",
              "      <td>1000027_1</td>\n",
              "    </tr>\n",
              "    <tr>\n",
              "      <th>1</th>\n",
              "      <td>2016-08-14</td>\n",
              "      <td>2016-08-16</td>\n",
              "      <td>15626</td>\n",
              "      <td>Elbonia</td>\n",
              "      <td>Gondal</td>\n",
              "      <td>1000027_1</td>\n",
              "    </tr>\n",
              "    <tr>\n",
              "      <th>2</th>\n",
              "      <td>2016-08-16</td>\n",
              "      <td>2016-08-18</td>\n",
              "      <td>60902</td>\n",
              "      <td>Elbonia</td>\n",
              "      <td>Gondal</td>\n",
              "      <td>1000027_1</td>\n",
              "    </tr>\n",
              "    <tr>\n",
              "      <th>3</th>\n",
              "      <td>2016-08-18</td>\n",
              "      <td>2016-08-21</td>\n",
              "      <td>30628</td>\n",
              "      <td>Elbonia</td>\n",
              "      <td>Gondal</td>\n",
              "      <td>1000027_1</td>\n",
              "    </tr>\n",
              "    <tr>\n",
              "      <th>4</th>\n",
              "      <td>2016-04-09</td>\n",
              "      <td>2016-04-11</td>\n",
              "      <td>38677</td>\n",
              "      <td>Gondal</td>\n",
              "      <td>Cobra Island</td>\n",
              "      <td>1000033_1</td>\n",
              "    </tr>\n",
              "    <tr>\n",
              "      <th>...</th>\n",
              "      <td>...</td>\n",
              "      <td>...</td>\n",
              "      <td>...</td>\n",
              "      <td>...</td>\n",
              "      <td>...</td>\n",
              "      <td>...</td>\n",
              "    </tr>\n",
              "    <tr>\n",
              "      <th>1166830</th>\n",
              "      <td>2016-05-01</td>\n",
              "      <td>2016-05-02</td>\n",
              "      <td>20345</td>\n",
              "      <td>Gondal</td>\n",
              "      <td>Fook Island</td>\n",
              "      <td>999855_1</td>\n",
              "    </tr>\n",
              "    <tr>\n",
              "      <th>1166831</th>\n",
              "      <td>2016-06-23</td>\n",
              "      <td>2016-06-24</td>\n",
              "      <td>17944</td>\n",
              "      <td>Gondal</td>\n",
              "      <td>Glubbdubdrib</td>\n",
              "      <td>999944_1</td>\n",
              "    </tr>\n",
              "    <tr>\n",
              "      <th>1166832</th>\n",
              "      <td>2016-06-24</td>\n",
              "      <td>2016-06-27</td>\n",
              "      <td>47075</td>\n",
              "      <td>Gondal</td>\n",
              "      <td>Glubbdubdrib</td>\n",
              "      <td>999944_1</td>\n",
              "    </tr>\n",
              "    <tr>\n",
              "      <th>1166833</th>\n",
              "      <td>2016-06-27</td>\n",
              "      <td>2016-06-29</td>\n",
              "      <td>228</td>\n",
              "      <td>Gondal</td>\n",
              "      <td>Glubbdubdrib</td>\n",
              "      <td>999944_1</td>\n",
              "    </tr>\n",
              "    <tr>\n",
              "      <th>1166834</th>\n",
              "      <td>2016-06-29</td>\n",
              "      <td>2016-06-30</td>\n",
              "      <td>62930</td>\n",
              "      <td>Gondal</td>\n",
              "      <td>Glubbdubdrib</td>\n",
              "      <td>999944_1</td>\n",
              "    </tr>\n",
              "  </tbody>\n",
              "</table>\n",
              "<p>1108574 rows × 6 columns</p>\n",
              "</div>\n",
              "      <button class=\"colab-df-convert\" onclick=\"convertToInteractive('df-b9f47c90-77a1-4536-8b20-bf09d48615c0')\"\n",
              "              title=\"Convert this dataframe to an interactive table.\"\n",
              "              style=\"display:none;\">\n",
              "        \n",
              "  <svg xmlns=\"http://www.w3.org/2000/svg\" height=\"24px\"viewBox=\"0 0 24 24\"\n",
              "       width=\"24px\">\n",
              "    <path d=\"M0 0h24v24H0V0z\" fill=\"none\"/>\n",
              "    <path d=\"M18.56 5.44l.94 2.06.94-2.06 2.06-.94-2.06-.94-.94-2.06-.94 2.06-2.06.94zm-11 1L8.5 8.5l.94-2.06 2.06-.94-2.06-.94L8.5 2.5l-.94 2.06-2.06.94zm10 10l.94 2.06.94-2.06 2.06-.94-2.06-.94-.94-2.06-.94 2.06-2.06.94z\"/><path d=\"M17.41 7.96l-1.37-1.37c-.4-.4-.92-.59-1.43-.59-.52 0-1.04.2-1.43.59L10.3 9.45l-7.72 7.72c-.78.78-.78 2.05 0 2.83L4 21.41c.39.39.9.59 1.41.59.51 0 1.02-.2 1.41-.59l7.78-7.78 2.81-2.81c.8-.78.8-2.07 0-2.86zM5.41 20L4 18.59l7.72-7.72 1.47 1.35L5.41 20z\"/>\n",
              "  </svg>\n",
              "      </button>\n",
              "      \n",
              "  <style>\n",
              "    .colab-df-container {\n",
              "      display:flex;\n",
              "      flex-wrap:wrap;\n",
              "      gap: 12px;\n",
              "    }\n",
              "\n",
              "    .colab-df-convert {\n",
              "      background-color: #E8F0FE;\n",
              "      border: none;\n",
              "      border-radius: 50%;\n",
              "      cursor: pointer;\n",
              "      display: none;\n",
              "      fill: #1967D2;\n",
              "      height: 32px;\n",
              "      padding: 0 0 0 0;\n",
              "      width: 32px;\n",
              "    }\n",
              "\n",
              "    .colab-df-convert:hover {\n",
              "      background-color: #E2EBFA;\n",
              "      box-shadow: 0px 1px 2px rgba(60, 64, 67, 0.3), 0px 1px 3px 1px rgba(60, 64, 67, 0.15);\n",
              "      fill: #174EA6;\n",
              "    }\n",
              "\n",
              "    [theme=dark] .colab-df-convert {\n",
              "      background-color: #3B4455;\n",
              "      fill: #D2E3FC;\n",
              "    }\n",
              "\n",
              "    [theme=dark] .colab-df-convert:hover {\n",
              "      background-color: #434B5C;\n",
              "      box-shadow: 0px 1px 3px 1px rgba(0, 0, 0, 0.15);\n",
              "      filter: drop-shadow(0px 1px 2px rgba(0, 0, 0, 0.3));\n",
              "      fill: #FFFFFF;\n",
              "    }\n",
              "  </style>\n",
              "\n",
              "      <script>\n",
              "        const buttonEl =\n",
              "          document.querySelector('#df-b9f47c90-77a1-4536-8b20-bf09d48615c0 button.colab-df-convert');\n",
              "        buttonEl.style.display =\n",
              "          google.colab.kernel.accessAllowed ? 'block' : 'none';\n",
              "\n",
              "        async function convertToInteractive(key) {\n",
              "          const element = document.querySelector('#df-b9f47c90-77a1-4536-8b20-bf09d48615c0');\n",
              "          const dataTable =\n",
              "            await google.colab.kernel.invokeFunction('convertToInteractive',\n",
              "                                                     [key], {});\n",
              "          if (!dataTable) return;\n",
              "\n",
              "          const docLinkHtml = 'Like what you see? Visit the ' +\n",
              "            '<a target=\"_blank\" href=https://colab.research.google.com/notebooks/data_table.ipynb>data table notebook</a>'\n",
              "            + ' to learn more about interactive tables.';\n",
              "          element.innerHTML = '';\n",
              "          dataTable['output_type'] = 'display_data';\n",
              "          await google.colab.output.renderOutput(dataTable, element);\n",
              "          const docLink = document.createElement('div');\n",
              "          docLink.innerHTML = docLinkHtml;\n",
              "          element.appendChild(docLink);\n",
              "        }\n",
              "      </script>\n",
              "    </div>\n",
              "  </div>\n",
              "  "
            ]
          },
          "metadata": {},
          "execution_count": 40
        }
      ],
      "source": [
        "df\n"
      ]
    },
    {
      "cell_type": "markdown",
      "metadata": {
        "id": "o-ldCaPLqS_s"
      },
      "source": [
        "Everything takes place between those dates, we will add season shift dates\n"
      ]
    },
    {
      "cell_type": "code",
      "execution_count": 41,
      "metadata": {
        "id": "dleUzVZwqS_s"
      },
      "outputs": [],
      "source": [
        "# define seasons key dates\n",
        "winter_start = datetime.strptime(\"2015-12-21\", \"%Y-%m-%d\")\n",
        "spring_start = datetime.strptime(\"2016-03-20\", \"%Y-%m-%d\")\n",
        "summer_start = datetime.strptime(\"2016-06-20\", \"%Y-%m-%d\")\n",
        "autumn_start = datetime.strptime(\"2016-09-22\", \"%Y-%m-%d\")\n",
        "winter_start2 = datetime.strptime(\"2016-12-21\", \"%Y-%m-%d\")\n"
      ]
    },
    {
      "cell_type": "code",
      "execution_count": 42,
      "metadata": {
        "id": "dL6BBZTLqS_t"
      },
      "outputs": [],
      "source": [
        "def get_season(date):\n",
        "    if date < spring_start:\n",
        "        # 0 for winter\n",
        "        return 0\n",
        "    if date < summer_start:\n",
        "        # 1 for spring\n",
        "        return 1\n",
        "    if date < autumn_start:\n",
        "        # 2 for summer\n",
        "        return 2\n",
        "    if date < winter_start2:\n",
        "        # 3 for autumn\n",
        "        return 3\n",
        "    # else: it is the start of 2017, hence winter\n",
        "    return 0\n"
      ]
    },
    {
      "cell_type": "code",
      "execution_count": 43,
      "metadata": {
        "id": "PdJ7WGztqS_t"
      },
      "outputs": [],
      "source": [
        "# get current season when checking in or checking out\n",
        "df[\"checkin_season\"] = df.checkin.apply(get_season)\n",
        "df[\"checkout_season\"] = df.checkout.apply(get_season)\n"
      ]
    },
    {
      "cell_type": "code",
      "execution_count": 44,
      "metadata": {
        "id": "87giJ20HqS_t"
      },
      "outputs": [],
      "source": [
        "# df[\"month_reservation\"] = df.checkin.apply(lambda x: x.month)\n"
      ]
    },
    {
      "cell_type": "markdown",
      "metadata": {
        "id": "SKypZt5wqS_t"
      },
      "source": [
        "Let's inspect consecutive cities\n"
      ]
    },
    {
      "cell_type": "code",
      "execution_count": 45,
      "metadata": {
        "id": "FpgKbYahqS_t"
      },
      "outputs": [],
      "source": [
        "# Let's deal with trip with consecutive cities\n",
        "df[\"is_new_trip\"] = df[[\"utrip_id\"]].shift() != df[[\"utrip_id\"]]\n",
        "df[\"is_new_city\"] = df[[\"city_id\"]].shift() != df[[\"city_id\"]]\n"
      ]
    },
    {
      "cell_type": "code",
      "execution_count": 46,
      "metadata": {
        "id": "wX1DhZwxqS_t"
      },
      "outputs": [],
      "source": [
        "# When it is both not a new trip, and not a new city, it means it is a consecutive city reservation within a trip\n",
        "df[\"is_consecutive_res\"] = (\n",
        "    df.is_new_city == False) & (df.is_new_trip == False)\n"
      ]
    },
    {
      "cell_type": "code",
      "execution_count": 47,
      "metadata": {
        "id": "Vz10XEBrqS_t",
        "colab": {
          "base_uri": "https://localhost:8080/"
        },
        "outputId": "85318dc0-64a4-4a59-e0e0-ba5eb06390d0"
      },
      "outputs": [
        {
          "output_type": "stream",
          "name": "stdout",
          "text": [
            "0.07 of reservations are made in the same city as before\n"
          ]
        }
      ],
      "source": [
        "print(\n",
        "    f\"{np.round(df.is_consecutive_res.sum() / df.shape[0], 2)} of reservations are made in the same city as before\")\n"
      ]
    },
    {
      "cell_type": "code",
      "execution_count": 48,
      "metadata": {
        "id": "-NaRFXoZqS_t"
      },
      "outputs": [],
      "source": [
        "consec = df.loc[df.is_consecutive_res].city_id.value_counts().to_dict()\n",
        "total_count = df.city_id.value_counts().to_dict()\n"
      ]
    },
    {
      "cell_type": "code",
      "execution_count": 49,
      "metadata": {
        "id": "f8elJDiOqS_t"
      },
      "outputs": [],
      "source": [
        "for city in consec.keys():\n",
        "    consec[city] = consec[city] / total_count[city]\n"
      ]
    },
    {
      "cell_type": "markdown",
      "metadata": {
        "id": "xijbAEO8qS_t"
      },
      "source": [
        "We decide to remove them\n"
      ]
    },
    {
      "cell_type": "code",
      "execution_count": 50,
      "metadata": {
        "id": "daIcZJhQqS_t"
      },
      "outputs": [],
      "source": [
        "# remove consecutive reservations\n",
        "filtered_df = df.loc[np.invert(df.is_consecutive_res)]\n"
      ]
    },
    {
      "cell_type": "markdown",
      "source": [
        "Dropping columns that are not required"
      ],
      "metadata": {
        "id": "QP7Bmc5pBWus"
      }
    },
    {
      "cell_type": "code",
      "execution_count": 51,
      "metadata": {
        "id": "Zhapg_vqqS_t"
      },
      "outputs": [],
      "source": [
        "col_to_drop = [\"checkin\", \"checkout\", \"checkout_season\", \"is_consecutive_res\",\n",
        "               \"is_new_city\", \"is_new_trip\"]\n",
        "\n",
        "filtered_df.drop(col_to_drop, axis=1, inplace=True)\n"
      ]
    },
    {
      "cell_type": "markdown",
      "metadata": {
        "id": "lS4OunRcqS_t"
      },
      "source": [
        "Now, we need to encode most of our data\n"
      ]
    },
    {
      "cell_type": "code",
      "execution_count": 52,
      "metadata": {
        "id": "ZkJvrj2gqS_t"
      },
      "outputs": [],
      "source": [
        "filtered_df.city_id = encode_cities.transform(filtered_df.city_id)\n",
        "filtered_df.hotel_country = encode_hotel_country.transform(\n",
        "    filtered_df.hotel_country)\n",
        "filtered_df.booker_country = encode_booker_country.transform(\n",
        "    filtered_df.booker_country)\n"
      ]
    },
    {
      "cell_type": "code",
      "execution_count": 53,
      "metadata": {
        "id": "uggRHVsoqS_u",
        "colab": {
          "base_uri": "https://localhost:8080/",
          "height": 206
        },
        "outputId": "682f9509-1ec8-4692-c5d4-8265d53d4075"
      },
      "outputs": [
        {
          "output_type": "execute_result",
          "data": {
            "text/plain": [
              "   city_id  booker_country  hotel_country   utrip_id  checkin_season\n",
              "0     4877               1             60  1000027_1               2\n",
              "1     9210               1             60  1000027_1               2\n",
              "2    36011               1             60  1000027_1               2\n",
              "3    18088               1             60  1000027_1               2\n",
              "4    22871               2             36  1000033_1               1"
            ],
            "text/html": [
              "\n",
              "  <div id=\"df-f76dee7a-d262-4e6d-960c-98079142404b\">\n",
              "    <div class=\"colab-df-container\">\n",
              "      <div>\n",
              "<style scoped>\n",
              "    .dataframe tbody tr th:only-of-type {\n",
              "        vertical-align: middle;\n",
              "    }\n",
              "\n",
              "    .dataframe tbody tr th {\n",
              "        vertical-align: top;\n",
              "    }\n",
              "\n",
              "    .dataframe thead th {\n",
              "        text-align: right;\n",
              "    }\n",
              "</style>\n",
              "<table border=\"1\" class=\"dataframe\">\n",
              "  <thead>\n",
              "    <tr style=\"text-align: right;\">\n",
              "      <th></th>\n",
              "      <th>city_id</th>\n",
              "      <th>booker_country</th>\n",
              "      <th>hotel_country</th>\n",
              "      <th>utrip_id</th>\n",
              "      <th>checkin_season</th>\n",
              "    </tr>\n",
              "  </thead>\n",
              "  <tbody>\n",
              "    <tr>\n",
              "      <th>0</th>\n",
              "      <td>4877</td>\n",
              "      <td>1</td>\n",
              "      <td>60</td>\n",
              "      <td>1000027_1</td>\n",
              "      <td>2</td>\n",
              "    </tr>\n",
              "    <tr>\n",
              "      <th>1</th>\n",
              "      <td>9210</td>\n",
              "      <td>1</td>\n",
              "      <td>60</td>\n",
              "      <td>1000027_1</td>\n",
              "      <td>2</td>\n",
              "    </tr>\n",
              "    <tr>\n",
              "      <th>2</th>\n",
              "      <td>36011</td>\n",
              "      <td>1</td>\n",
              "      <td>60</td>\n",
              "      <td>1000027_1</td>\n",
              "      <td>2</td>\n",
              "    </tr>\n",
              "    <tr>\n",
              "      <th>3</th>\n",
              "      <td>18088</td>\n",
              "      <td>1</td>\n",
              "      <td>60</td>\n",
              "      <td>1000027_1</td>\n",
              "      <td>2</td>\n",
              "    </tr>\n",
              "    <tr>\n",
              "      <th>4</th>\n",
              "      <td>22871</td>\n",
              "      <td>2</td>\n",
              "      <td>36</td>\n",
              "      <td>1000033_1</td>\n",
              "      <td>1</td>\n",
              "    </tr>\n",
              "  </tbody>\n",
              "</table>\n",
              "</div>\n",
              "      <button class=\"colab-df-convert\" onclick=\"convertToInteractive('df-f76dee7a-d262-4e6d-960c-98079142404b')\"\n",
              "              title=\"Convert this dataframe to an interactive table.\"\n",
              "              style=\"display:none;\">\n",
              "        \n",
              "  <svg xmlns=\"http://www.w3.org/2000/svg\" height=\"24px\"viewBox=\"0 0 24 24\"\n",
              "       width=\"24px\">\n",
              "    <path d=\"M0 0h24v24H0V0z\" fill=\"none\"/>\n",
              "    <path d=\"M18.56 5.44l.94 2.06.94-2.06 2.06-.94-2.06-.94-.94-2.06-.94 2.06-2.06.94zm-11 1L8.5 8.5l.94-2.06 2.06-.94-2.06-.94L8.5 2.5l-.94 2.06-2.06.94zm10 10l.94 2.06.94-2.06 2.06-.94-2.06-.94-.94-2.06-.94 2.06-2.06.94z\"/><path d=\"M17.41 7.96l-1.37-1.37c-.4-.4-.92-.59-1.43-.59-.52 0-1.04.2-1.43.59L10.3 9.45l-7.72 7.72c-.78.78-.78 2.05 0 2.83L4 21.41c.39.39.9.59 1.41.59.51 0 1.02-.2 1.41-.59l7.78-7.78 2.81-2.81c.8-.78.8-2.07 0-2.86zM5.41 20L4 18.59l7.72-7.72 1.47 1.35L5.41 20z\"/>\n",
              "  </svg>\n",
              "      </button>\n",
              "      \n",
              "  <style>\n",
              "    .colab-df-container {\n",
              "      display:flex;\n",
              "      flex-wrap:wrap;\n",
              "      gap: 12px;\n",
              "    }\n",
              "\n",
              "    .colab-df-convert {\n",
              "      background-color: #E8F0FE;\n",
              "      border: none;\n",
              "      border-radius: 50%;\n",
              "      cursor: pointer;\n",
              "      display: none;\n",
              "      fill: #1967D2;\n",
              "      height: 32px;\n",
              "      padding: 0 0 0 0;\n",
              "      width: 32px;\n",
              "    }\n",
              "\n",
              "    .colab-df-convert:hover {\n",
              "      background-color: #E2EBFA;\n",
              "      box-shadow: 0px 1px 2px rgba(60, 64, 67, 0.3), 0px 1px 3px 1px rgba(60, 64, 67, 0.15);\n",
              "      fill: #174EA6;\n",
              "    }\n",
              "\n",
              "    [theme=dark] .colab-df-convert {\n",
              "      background-color: #3B4455;\n",
              "      fill: #D2E3FC;\n",
              "    }\n",
              "\n",
              "    [theme=dark] .colab-df-convert:hover {\n",
              "      background-color: #434B5C;\n",
              "      box-shadow: 0px 1px 3px 1px rgba(0, 0, 0, 0.15);\n",
              "      filter: drop-shadow(0px 1px 2px rgba(0, 0, 0, 0.3));\n",
              "      fill: #FFFFFF;\n",
              "    }\n",
              "  </style>\n",
              "\n",
              "      <script>\n",
              "        const buttonEl =\n",
              "          document.querySelector('#df-f76dee7a-d262-4e6d-960c-98079142404b button.colab-df-convert');\n",
              "        buttonEl.style.display =\n",
              "          google.colab.kernel.accessAllowed ? 'block' : 'none';\n",
              "\n",
              "        async function convertToInteractive(key) {\n",
              "          const element = document.querySelector('#df-f76dee7a-d262-4e6d-960c-98079142404b');\n",
              "          const dataTable =\n",
              "            await google.colab.kernel.invokeFunction('convertToInteractive',\n",
              "                                                     [key], {});\n",
              "          if (!dataTable) return;\n",
              "\n",
              "          const docLinkHtml = 'Like what you see? Visit the ' +\n",
              "            '<a target=\"_blank\" href=https://colab.research.google.com/notebooks/data_table.ipynb>data table notebook</a>'\n",
              "            + ' to learn more about interactive tables.';\n",
              "          element.innerHTML = '';\n",
              "          dataTable['output_type'] = 'display_data';\n",
              "          await google.colab.output.renderOutput(dataTable, element);\n",
              "          const docLink = document.createElement('div');\n",
              "          docLink.innerHTML = docLinkHtml;\n",
              "          element.appendChild(docLink);\n",
              "        }\n",
              "      </script>\n",
              "    </div>\n",
              "  </div>\n",
              "  "
            ]
          },
          "metadata": {},
          "execution_count": 53
        }
      ],
      "source": [
        "filtered_df.head()\n"
      ]
    },
    {
      "cell_type": "code",
      "execution_count": 54,
      "metadata": {
        "id": "ZZyfQOcoqS_u"
      },
      "outputs": [],
      "source": [
        "# Save the preprocessed df\n",
        "with open(path+\"preprocessed_df.pkl\", \"wb\") as f:\n",
        "    pickle.dump(filtered_df, f)\n"
      ]
    },
    {
      "cell_type": "code",
      "execution_count": 55,
      "metadata": {
        "id": "iidG3aeGqS_u"
      },
      "outputs": [],
      "source": [
        "# Now reset index with utrip id\n",
        "df = filtered_df\n",
        "\n",
        "df.set_index(\"utrip_id\", inplace=True)\n"
      ]
    },
    {
      "cell_type": "code",
      "execution_count": 56,
      "metadata": {
        "id": "36E59f5aqS_u",
        "colab": {
          "base_uri": "https://localhost:8080/"
        },
        "outputId": "299b32b6-44ae-4feb-f66b-9940a1579b55"
      },
      "outputs": [
        {
          "output_type": "stream",
          "name": "stdout",
          "text": [
            "There is 206802 different trips\n",
            "We will use 10% in our validation set: 20680\n"
          ]
        }
      ],
      "source": [
        "import random\n",
        "random.seed(10)\n",
        "print(f\"There is {df.index.nunique()} different trips\")\n",
        "n_samples = int(np.round(df.index.nunique() * 0.1))\n",
        "print(f'We will use 10% in our validation set: {n_samples}')\n",
        "\n",
        "\n",
        "val_index = random.sample(list(df.index.unique()), n_samples)\n"
      ]
    },
    {
      "cell_type": "code",
      "execution_count": 57,
      "metadata": {
        "id": "EkgS6BErqS_u"
      },
      "outputs": [],
      "source": [
        "# save it\n",
        "with open(path+\"val_index_split.pkl\", 'wb') as f:\n",
        "    pickle.dump(val_index, f)\n"
      ]
    },
    {
      "cell_type": "code",
      "execution_count": 58,
      "metadata": {
        "id": "YVTfzhw1qS_u"
      },
      "outputs": [],
      "source": [
        "val_set = df.loc[df.index.isin(val_index)]\n",
        "train_set = df.loc[np.invert(df.index.isin(val_index))]\n",
        "\n",
        "# for simplification\n",
        "df = train_set\n"
      ]
    },
    {
      "cell_type": "code",
      "execution_count": 59,
      "metadata": {
        "id": "RzYdFEsAqS_u"
      },
      "outputs": [],
      "source": [
        "# Normalize all columns except city_id\n",
        "normalized_values = {}\n",
        "\n",
        "\n",
        "'''\n",
        "  We normalize our training set\n",
        "    Min-Max Normalization\n",
        "'''\n",
        "for col in df.columns[1:]:\n",
        "    normalized_values[col] = (df[col].min(), df[col].max())\n",
        "    df[col] = (df[col] - df[col].min()) / (df[col].max() - df[col].min())\n",
        "\n",
        "'''\n",
        "  We normalize our val set\n",
        "    Min-Max Normalization\n",
        "'''\n",
        "for col in val_set.columns[1:]:\n",
        "    min_value, max_value = normalized_values[col]\n",
        "    val_set[col] = (val_set[col] - min_value) / (max_value - min_value)\n"
      ]
    },
    {
      "cell_type": "code",
      "execution_count": 60,
      "metadata": {
        "id": "hHdG8X-bqS_u",
        "colab": {
          "base_uri": "https://localhost:8080/"
        },
        "outputId": "2b6f3876-6a3e-4f0b-ffb0-353ffeab3d47"
      },
      "outputs": [
        {
          "output_type": "execute_result",
          "data": {
            "text/plain": [
              "{'booker_country': (0, 4), 'hotel_country': (0, 194), 'checkin_season': (0, 3)}"
            ]
          },
          "metadata": {},
          "execution_count": 60
        }
      ],
      "source": [
        "normalized_values\n"
      ]
    },
    {
      "cell_type": "code",
      "execution_count": 61,
      "metadata": {
        "id": "h-e-ZLc4qS_u"
      },
      "outputs": [],
      "source": [
        "with open(path+\"normalized_values.pkl\", \"wb\") as f:\n",
        "    pickle.dump(normalized_values, f)\n"
      ]
    },
    {
      "cell_type": "code",
      "execution_count": 62,
      "metadata": {
        "id": "RQOFuIJoqS_u"
      },
      "outputs": [],
      "source": [
        "# Retrieve trips info\n",
        "trips = df.groupby(\"utrip_id\").apply(np.array)\n"
      ]
    },
    {
      "cell_type": "code",
      "execution_count": 63,
      "metadata": {
        "id": "eqnskW33qS_u"
      },
      "outputs": [],
      "source": [
        "lens = [len(trip) for trip in trips]\n"
      ]
    },
    {
      "cell_type": "code",
      "execution_count": 64,
      "metadata": {
        "id": "MnrNyZqsqS_u",
        "colab": {
          "base_uri": "https://localhost:8080/"
        },
        "outputId": "f0e2bfba-7ca4-4b2c-84fc-12d97ae7ded2"
      },
      "outputs": [
        {
          "output_type": "execute_result",
          "data": {
            "text/plain": [
              "(1, 40)"
            ]
          },
          "metadata": {},
          "execution_count": 64
        }
      ],
      "source": [
        "np.min(lens), np.max(lens)\n"
      ]
    },
    {
      "cell_type": "code",
      "execution_count": 65,
      "metadata": {
        "id": "HPEHBdiaqS_u",
        "colab": {
          "base_uri": "https://localhost:8080/"
        },
        "outputId": "a00cd3e0-3f72-46f0-b220-ca19ed00e3d4"
      },
      "outputs": [
        {
          "output_type": "stream",
          "name": "stdout",
          "text": [
            "We have currently 186122 trips in our train set\n",
            "We will keep all those greater than size 3: 87925 trips\n"
          ]
        }
      ],
      "source": [
        "print(f\"We have currently {len(lens)} trips in our train set\")\n",
        "print(\n",
        "    f\"We will keep all those greater than size 3: {(np.array(lens) > 4).sum()} trips\")\n"
      ]
    },
    {
      "cell_type": "code",
      "execution_count": 66,
      "metadata": {
        "id": "XzL06BogqS_u",
        "colab": {
          "base_uri": "https://localhost:8080/",
          "height": 455
        },
        "outputId": "e04e5bdf-d22b-4a94-cbe6-a32a25120b16"
      },
      "outputs": [
        {
          "output_type": "execute_result",
          "data": {
            "text/plain": [
              "           city_id  booker_country  hotel_country  checkin_season\n",
              "utrip_id                                                         \n",
              "1000027_1     4877            0.25       0.309278        0.666667\n",
              "1000027_1     9210            0.25       0.309278        0.666667\n",
              "1000027_1    36011            0.25       0.309278        0.666667\n",
              "1000027_1    18088            0.25       0.309278        0.666667\n",
              "1000033_1    22871            0.50       0.185567        0.333333\n",
              "...            ...             ...            ...             ...\n",
              "999855_1     12000            0.50       0.268041        0.333333\n",
              "999944_1     10598            0.50       0.304124        0.666667\n",
              "999944_1     27892            0.50       0.304124        0.666667\n",
              "999944_1       125            0.50       0.304124        0.666667\n",
              "999944_1     37219            0.50       0.304124        0.666667\n",
              "\n",
              "[924799 rows x 4 columns]"
            ],
            "text/html": [
              "\n",
              "  <div id=\"df-f5484805-b9c4-4d8a-a557-52b5c1ee4af5\">\n",
              "    <div class=\"colab-df-container\">\n",
              "      <div>\n",
              "<style scoped>\n",
              "    .dataframe tbody tr th:only-of-type {\n",
              "        vertical-align: middle;\n",
              "    }\n",
              "\n",
              "    .dataframe tbody tr th {\n",
              "        vertical-align: top;\n",
              "    }\n",
              "\n",
              "    .dataframe thead th {\n",
              "        text-align: right;\n",
              "    }\n",
              "</style>\n",
              "<table border=\"1\" class=\"dataframe\">\n",
              "  <thead>\n",
              "    <tr style=\"text-align: right;\">\n",
              "      <th></th>\n",
              "      <th>city_id</th>\n",
              "      <th>booker_country</th>\n",
              "      <th>hotel_country</th>\n",
              "      <th>checkin_season</th>\n",
              "    </tr>\n",
              "    <tr>\n",
              "      <th>utrip_id</th>\n",
              "      <th></th>\n",
              "      <th></th>\n",
              "      <th></th>\n",
              "      <th></th>\n",
              "    </tr>\n",
              "  </thead>\n",
              "  <tbody>\n",
              "    <tr>\n",
              "      <th>1000027_1</th>\n",
              "      <td>4877</td>\n",
              "      <td>0.25</td>\n",
              "      <td>0.309278</td>\n",
              "      <td>0.666667</td>\n",
              "    </tr>\n",
              "    <tr>\n",
              "      <th>1000027_1</th>\n",
              "      <td>9210</td>\n",
              "      <td>0.25</td>\n",
              "      <td>0.309278</td>\n",
              "      <td>0.666667</td>\n",
              "    </tr>\n",
              "    <tr>\n",
              "      <th>1000027_1</th>\n",
              "      <td>36011</td>\n",
              "      <td>0.25</td>\n",
              "      <td>0.309278</td>\n",
              "      <td>0.666667</td>\n",
              "    </tr>\n",
              "    <tr>\n",
              "      <th>1000027_1</th>\n",
              "      <td>18088</td>\n",
              "      <td>0.25</td>\n",
              "      <td>0.309278</td>\n",
              "      <td>0.666667</td>\n",
              "    </tr>\n",
              "    <tr>\n",
              "      <th>1000033_1</th>\n",
              "      <td>22871</td>\n",
              "      <td>0.50</td>\n",
              "      <td>0.185567</td>\n",
              "      <td>0.333333</td>\n",
              "    </tr>\n",
              "    <tr>\n",
              "      <th>...</th>\n",
              "      <td>...</td>\n",
              "      <td>...</td>\n",
              "      <td>...</td>\n",
              "      <td>...</td>\n",
              "    </tr>\n",
              "    <tr>\n",
              "      <th>999855_1</th>\n",
              "      <td>12000</td>\n",
              "      <td>0.50</td>\n",
              "      <td>0.268041</td>\n",
              "      <td>0.333333</td>\n",
              "    </tr>\n",
              "    <tr>\n",
              "      <th>999944_1</th>\n",
              "      <td>10598</td>\n",
              "      <td>0.50</td>\n",
              "      <td>0.304124</td>\n",
              "      <td>0.666667</td>\n",
              "    </tr>\n",
              "    <tr>\n",
              "      <th>999944_1</th>\n",
              "      <td>27892</td>\n",
              "      <td>0.50</td>\n",
              "      <td>0.304124</td>\n",
              "      <td>0.666667</td>\n",
              "    </tr>\n",
              "    <tr>\n",
              "      <th>999944_1</th>\n",
              "      <td>125</td>\n",
              "      <td>0.50</td>\n",
              "      <td>0.304124</td>\n",
              "      <td>0.666667</td>\n",
              "    </tr>\n",
              "    <tr>\n",
              "      <th>999944_1</th>\n",
              "      <td>37219</td>\n",
              "      <td>0.50</td>\n",
              "      <td>0.304124</td>\n",
              "      <td>0.666667</td>\n",
              "    </tr>\n",
              "  </tbody>\n",
              "</table>\n",
              "<p>924799 rows × 4 columns</p>\n",
              "</div>\n",
              "      <button class=\"colab-df-convert\" onclick=\"convertToInteractive('df-f5484805-b9c4-4d8a-a557-52b5c1ee4af5')\"\n",
              "              title=\"Convert this dataframe to an interactive table.\"\n",
              "              style=\"display:none;\">\n",
              "        \n",
              "  <svg xmlns=\"http://www.w3.org/2000/svg\" height=\"24px\"viewBox=\"0 0 24 24\"\n",
              "       width=\"24px\">\n",
              "    <path d=\"M0 0h24v24H0V0z\" fill=\"none\"/>\n",
              "    <path d=\"M18.56 5.44l.94 2.06.94-2.06 2.06-.94-2.06-.94-.94-2.06-.94 2.06-2.06.94zm-11 1L8.5 8.5l.94-2.06 2.06-.94-2.06-.94L8.5 2.5l-.94 2.06-2.06.94zm10 10l.94 2.06.94-2.06 2.06-.94-2.06-.94-.94-2.06-.94 2.06-2.06.94z\"/><path d=\"M17.41 7.96l-1.37-1.37c-.4-.4-.92-.59-1.43-.59-.52 0-1.04.2-1.43.59L10.3 9.45l-7.72 7.72c-.78.78-.78 2.05 0 2.83L4 21.41c.39.39.9.59 1.41.59.51 0 1.02-.2 1.41-.59l7.78-7.78 2.81-2.81c.8-.78.8-2.07 0-2.86zM5.41 20L4 18.59l7.72-7.72 1.47 1.35L5.41 20z\"/>\n",
              "  </svg>\n",
              "      </button>\n",
              "      \n",
              "  <style>\n",
              "    .colab-df-container {\n",
              "      display:flex;\n",
              "      flex-wrap:wrap;\n",
              "      gap: 12px;\n",
              "    }\n",
              "\n",
              "    .colab-df-convert {\n",
              "      background-color: #E8F0FE;\n",
              "      border: none;\n",
              "      border-radius: 50%;\n",
              "      cursor: pointer;\n",
              "      display: none;\n",
              "      fill: #1967D2;\n",
              "      height: 32px;\n",
              "      padding: 0 0 0 0;\n",
              "      width: 32px;\n",
              "    }\n",
              "\n",
              "    .colab-df-convert:hover {\n",
              "      background-color: #E2EBFA;\n",
              "      box-shadow: 0px 1px 2px rgba(60, 64, 67, 0.3), 0px 1px 3px 1px rgba(60, 64, 67, 0.15);\n",
              "      fill: #174EA6;\n",
              "    }\n",
              "\n",
              "    [theme=dark] .colab-df-convert {\n",
              "      background-color: #3B4455;\n",
              "      fill: #D2E3FC;\n",
              "    }\n",
              "\n",
              "    [theme=dark] .colab-df-convert:hover {\n",
              "      background-color: #434B5C;\n",
              "      box-shadow: 0px 1px 3px 1px rgba(0, 0, 0, 0.15);\n",
              "      filter: drop-shadow(0px 1px 2px rgba(0, 0, 0, 0.3));\n",
              "      fill: #FFFFFF;\n",
              "    }\n",
              "  </style>\n",
              "\n",
              "      <script>\n",
              "        const buttonEl =\n",
              "          document.querySelector('#df-f5484805-b9c4-4d8a-a557-52b5c1ee4af5 button.colab-df-convert');\n",
              "        buttonEl.style.display =\n",
              "          google.colab.kernel.accessAllowed ? 'block' : 'none';\n",
              "\n",
              "        async function convertToInteractive(key) {\n",
              "          const element = document.querySelector('#df-f5484805-b9c4-4d8a-a557-52b5c1ee4af5');\n",
              "          const dataTable =\n",
              "            await google.colab.kernel.invokeFunction('convertToInteractive',\n",
              "                                                     [key], {});\n",
              "          if (!dataTable) return;\n",
              "\n",
              "          const docLinkHtml = 'Like what you see? Visit the ' +\n",
              "            '<a target=\"_blank\" href=https://colab.research.google.com/notebooks/data_table.ipynb>data table notebook</a>'\n",
              "            + ' to learn more about interactive tables.';\n",
              "          element.innerHTML = '';\n",
              "          dataTable['output_type'] = 'display_data';\n",
              "          await google.colab.output.renderOutput(dataTable, element);\n",
              "          const docLink = document.createElement('div');\n",
              "          docLink.innerHTML = docLinkHtml;\n",
              "          element.appendChild(docLink);\n",
              "        }\n",
              "      </script>\n",
              "    </div>\n",
              "  </div>\n",
              "  "
            ]
          },
          "metadata": {},
          "execution_count": 66
        }
      ],
      "source": [
        "df\n"
      ]
    },
    {
      "cell_type": "code",
      "execution_count": 67,
      "metadata": {
        "id": "j1HUkdISqS_v"
      },
      "outputs": [],
      "source": [
        "\n",
        "from tensorflow.keras.preprocessing.sequence import TimeseriesGenerator\n",
        "cities_sequences = []\n",
        "# trips_info = []\n",
        "y = []\n",
        "for trip in trips:\n",
        "    # discard trip smaller than 4\n",
        "    # print('==>', trip, len(trip))\n",
        "    if len(trip) < 4:\n",
        "        continue\n",
        "    # We start at 4\n",
        "    for i in range(3, len(trip)):\n",
        "        for elements in TimeseriesGenerator(trip, trip, i):\n",
        "            # elements contain the list of i sequences and list of i targets in a tuple\n",
        "            tpls = elements[0]\n",
        "            targets = elements[1]\n",
        "            # print('111111=>', tpls)\n",
        "            # print('222222=>', targets)\n",
        "            n = len(tpls)\n",
        "            for j in range(n):\n",
        "               \n",
        "                cities_sequence = tpls[j][:, 0]\n",
        "               \n",
        "\n",
        "                # trip_information = [last_booker, last_num_days, month_res]\n",
        "\n",
        "                # target city\n",
        "                target = targets[j][0]\n",
        "\n",
        "                # Save all\n",
        "                cities_sequences.append(cities_sequence)\n",
        "                # trips_info.append(trip_information)\n",
        "                y.append(target)\n"
      ]
    },
    {
      "cell_type": "code",
      "execution_count": 68,
      "metadata": {
        "id": "QcrwsgRtqS_v",
        "colab": {
          "base_uri": "https://localhost:8080/"
        },
        "outputId": "3f9f6aec-27c8-4352-ed9f-d63245863041"
      },
      "outputs": [
        {
          "output_type": "stream",
          "name": "stdout",
          "text": [
            "We now have a new train set of 947131 trips with at least 4 destinations\n"
          ]
        }
      ],
      "source": [
        "print(\n",
        "    f'We now have a new train set of {len(y)} trips with at least 4 destinations')\n"
      ]
    },
    {
      "cell_type": "code",
      "execution_count": 69,
      "metadata": {
        "id": "YiKR-MEEqS_v",
        "colab": {
          "base_uri": "https://localhost:8080/"
        },
        "outputId": "09bc8ebc-e646-4fa2-b5bd-02ad3663005a"
      },
      "outputs": [
        {
          "output_type": "execute_result",
          "data": {
            "text/plain": [
              "utrip_id\n",
              "1000083_1    [[33122.0, 1.0, 0.6288659793814433, 0.33333333...\n",
              "1000237_1    [[15243.0, 0.5, 0.30412371134020616, 0.6666666...\n",
              "1000706_1    [[36981.0, 0.25, 0.26804123711340205, 0.0], [2...\n",
              "1002130_1    [[28721.0, 0.5, 0.18556701030927836, 1.0], [31...\n",
              "10029_2      [[29420.0, 0.5, 0.31958762886597936, 1.0], [21...\n",
              "                                   ...                        \n",
              "999288_1     [[27649.0, 0.5, 0.4381443298969072, 1.0], [178...\n",
              "999377_1     [[17020.0, 0.5, 0.26804123711340205, 0.6666666...\n",
              "999385_2     [[17350.0, 1.0, 0.18556701030927836, 0.6666666...\n",
              "999674_3     [[6761.0, 0.5, 0.26804123711340205, 0.66666666...\n",
              "999708_1     [[38342.0, 0.5, 0.26804123711340205, 0.6666666...\n",
              "Length: 20680, dtype: object"
            ]
          },
          "metadata": {},
          "execution_count": 69
        }
      ],
      "source": [
        "# Retrieve trips info\n",
        "val_trips = val_set.groupby(\"utrip_id\").apply(np.array)\n",
        "val_trips\n"
      ]
    },
    {
      "cell_type": "code",
      "execution_count": 70,
      "metadata": {
        "id": "SxgVMj-dqS_v",
        "colab": {
          "base_uri": "https://localhost:8080/"
        },
        "outputId": "224b3469-6a3b-43cc-aa4c-43e7b340cebc"
      },
      "outputs": [
        {
          "output_type": "execute_result",
          "data": {
            "text/plain": [
              "(4, 4)"
            ]
          },
          "metadata": {},
          "execution_count": 70
        }
      ],
      "source": [
        "val_trips[0].shape\n"
      ]
    },
    {
      "cell_type": "code",
      "execution_count": 71,
      "metadata": {
        "id": "UPy-9_T8qS_v"
      },
      "outputs": [],
      "source": [
        "cities_sequences_val = []\n",
        "\n",
        "y_val = []\n",
        "\n",
        "for trip in val_trips:\n",
        "    # #We do not consider the last destination of the trip\n",
        "    \n",
        "    # discard trip smaller than 4\n",
        "    if len(trip) < 4:\n",
        "        continue\n",
        "    # We start at 4\n",
        "    for i in range(3, len(trip)):\n",
        "        for elements in TimeseriesGenerator(trip, trip, i):\n",
        "            # elements contain the list of i sequences and list of i targets in a tuple\n",
        "            tpls = elements[0]\n",
        "            targets = elements[1]\n",
        "            n = len(tpls)\n",
        "            for j in range(n):\n",
        "                # cities within trip\n",
        "                cities_sequence = tpls[j][:, 0]\n",
        "                \n",
        "                # target city\n",
        "                target = targets[j][0]\n",
        "\n",
        "                # Save all\n",
        "                cities_sequences_val.append(cities_sequence)\n",
        "                # trips_info.append(trip_information)\n",
        "                y_val.append(target)\n"
      ]
    },
    {
      "cell_type": "markdown",
      "source": [
        "Displaying the max length of train and val sequence"
      ],
      "metadata": {
        "id": "obrMDIt2Bfh2"
      }
    },
    {
      "cell_type": "code",
      "execution_count": 72,
      "metadata": {
        "id": "7ELvwXaAqS_v",
        "colab": {
          "base_uri": "https://localhost:8080/"
        },
        "outputId": "088b2d13-1e14-4f8f-ad1e-74e3fd189067"
      },
      "outputs": [
        {
          "output_type": "stream",
          "name": "stdout",
          "text": [
            "Max len of trip in train seq: 39\n",
            "Max len of trip in val seq: 26\n"
          ]
        }
      ],
      "source": [
        "lens_trips = [len(trip) for trip in cities_sequences]\n",
        "print(f\"Max len of trip in train seq: {np.max(lens_trips)}\")\n",
        "\n",
        "lens_trips_val = [len(trip) for trip in cities_sequences_val]\n",
        "print(f\"Max len of trip in val seq: {np.max(lens_trips_val)}\")\n"
      ]
    },
    {
      "cell_type": "code",
      "execution_count": 73,
      "metadata": {
        "id": "oMRjP1uoqS_v",
        "colab": {
          "base_uri": "https://localhost:8080/"
        },
        "outputId": "24f7a9de-b1fc-460b-ec05-0a02a65f696f"
      },
      "outputs": [
        {
          "output_type": "stream",
          "name": "stdout",
          "text": [
            "We now have a new train set of 947131 trips with at least 4 destinations\n"
          ]
        }
      ],
      "source": [
        "print(\n",
        "    f'We now have a new train set of {len(y)} trips with at least 4 destinations')\n"
      ]
    },
    {
      "cell_type": "markdown",
      "source": [
        "Splitting the data into train and test"
      ],
      "metadata": {
        "id": "EjShcjBdAJ7n"
      }
    },
    {
      "cell_type": "code",
      "execution_count": 74,
      "metadata": {
        "id": "68ORbMQlqS_v"
      },
      "outputs": [],
      "source": [
        "# Finalization\n",
        "X_train_cities = cities_sequences\n",
        "# X_train_info = trips_info\n",
        "y_train = np.array(y)\n",
        "\n",
        "\n",
        "X_val_cities = cities_sequences_val\n",
        "# X_val_info = trips_info_val\n",
        "y_val = np.array(y_val)\n"
      ]
    },
    {
      "cell_type": "markdown",
      "source": [
        "Displaying length of trin and test data"
      ],
      "metadata": {
        "id": "_YVaV-_sANlE"
      }
    },
    {
      "cell_type": "code",
      "execution_count": 75,
      "metadata": {
        "id": "n-_399ujqS_v",
        "colab": {
          "base_uri": "https://localhost:8080/"
        },
        "outputId": "0b278128-d671-41c9-deec-f76d42b21c0d"
      },
      "outputs": [
        {
          "output_type": "execute_result",
          "data": {
            "text/plain": [
              "(947131, 105400)"
            ]
          },
          "metadata": {},
          "execution_count": 75
        }
      ],
      "source": [
        "len(y_train), len(y_val)\n"
      ]
    },
    {
      "cell_type": "code",
      "execution_count": 76,
      "metadata": {
        "id": "vJYhHEvJqS_v"
      },
      "outputs": [],
      "source": [
        "# Save data to compressed files\n",
        "# train data\n",
        "from numpy import savez_compressed, load\n",
        "savez_compressed(path+\"X_train_cities.npz\", X_train_cities)\n",
        "# savez_compressed(\"X_train_info.npz\", X_train_info)\n",
        "savez_compressed(path+\"y_train.npz\", y_train)\n",
        "\n",
        "# val data\n",
        "savez_compressed(path+\"X_val_cities.npz\", X_val_cities)\n",
        "# savez_compressed(\"X_val_info.npz\", X_val_info)\n",
        "savez_compressed(path+\"y_val.npz\", y_val)\n"
      ]
    },
    {
      "cell_type": "code",
      "execution_count": 77,
      "metadata": {
        "id": "nk6hoJQtqS_v"
      },
      "outputs": [],
      "source": [
        "with open(path+\"test_data.pkl\", \"rb\") as f:\n",
        "    test_set, y_test = pickle.load(f)\n"
      ]
    },
    {
      "cell_type": "code",
      "execution_count": 78,
      "metadata": {
        "id": "OVQ-C6KTqS_v"
      },
      "outputs": [],
      "source": [
        "with open(path+\"Preprocessing_encoders.pkl\", \"rb\") as f:\n",
        "    encode_cities, encode_hotel_country, encode_booker_country = pickle.load(f)\n",
        "\n",
        "with open(path+\"normalized_values.pkl\", \"rb\") as f:\n",
        "    normalized_values = pickle.load(f)\n"
      ]
    },
    {
      "cell_type": "code",
      "execution_count": 79,
      "metadata": {
        "id": "CCYxYErmqS_v"
      },
      "outputs": [],
      "source": [
        "y_test = y_test.set_index(\"utrip_id\").sort_index()\n"
      ]
    },
    {
      "cell_type": "markdown",
      "source": [
        "we converted the checkin and checkout features into datetime format. We find the consecutive trips , the city_ids were encoded and the model was trained with city_id , utrip_id as the features.  We set the utrip_id as an index as we future group the cities based on it creating cities_sequences. The transformed sequences of city_ids which are encoded are given as an input into the model for training."
      ],
      "metadata": {
        "id": "fLkpFsPv_A3-"
      }
    },
    {
      "cell_type": "code",
      "execution_count": 80,
      "metadata": {
        "id": "4nrxjc_9qS_w"
      },
      "outputs": [],
      "source": [
        "def apply_preprocessing(test_set, datetime_format=\"%Y-%m-%d\", target=\"?\", skip_duplicates=True):\n",
        "\n",
        "    df = test_set.copy()\n",
        "\n",
        "    # Transform dates into datetime format\n",
        "    df.checkin = df.checkin.apply(\n",
        "        lambda x: datetime.strptime(x, datetime_format))\n",
        "    df.checkout = df.checkout.apply(\n",
        "        lambda x: datetime.strptime(x, datetime_format))\n",
        "\n",
        "   \n",
        "\n",
        "    # get current season when checking in or checking out\n",
        "    df[\"checkin_season\"] = df.checkin.apply(get_season)\n",
        "    df[\"checkout_season\"] = df.checkout.apply(get_season)\n",
        "\n",
        "   \n",
        "\n",
        "    # Let's deal with trip with consecutive cities\n",
        "    df[\"is_new_trip\"] = df[[\"utrip_id\"]].shift() != df[[\"utrip_id\"]]\n",
        "    df[\"is_new_city\"] = df[[\"city_id\"]].shift() != df[[\"city_id\"]]\n",
        "    # When it is both not a new trip, and not a new city, it means it is a consecutive city reservation within a trip\n",
        "    df[\"is_consecutive_res\"] = (\n",
        "        df.is_new_city == False) & (df.is_new_trip == False)\n",
        "\n",
        "    # remove consecutive reservations\n",
        "    if skip_duplicates:\n",
        "        df = df.loc[np.invert(df.is_consecutive_res)]\n",
        "\n",
        "    col_to_drop = [\"checkin\", \"checkout\", \"checkout_season\", \"is_consecutive_res\",\n",
        "                   \"is_new_city\", \"is_new_trip\", \"is_target\"]\n",
        "\n",
        "    df.drop(col_to_drop, axis=1, inplace=True)\n",
        "\n",
        "    # Retrieve trips info\n",
        "    df.set_index(\"utrip_id\", inplace=True)\n",
        "\n",
        "    # encode city_id and hotel country\n",
        "    mask = df['city_id'] != target\n",
        "    df.loc[mask, 'city_id'] = encode_cities.transform(df.loc[mask, 'city_id'])\n",
        "    df.loc[mask, 'hotel_country'] = encode_hotel_country.transform(\n",
        "        df.loc[mask, \"hotel_country\"])\n",
        "\n",
        "    # encode the rest of data\n",
        "    \n",
        "    df.booker_country = encode_booker_country.transform(df.booker_country)\n",
        "\n",
        "    # Scale\n",
        "    for col in df.columns[1:]:\n",
        "        # not hotel country\n",
        "        if col == \"hotel_country\":\n",
        "            continue\n",
        "        min_value, max_value = normalized_values[col]\n",
        "        df[col] = (df[col] - min_value) / (max_value - min_value)\n",
        "\n",
        "    # Normalize hotel country col\n",
        "    min_value, max_value = normalized_values[\"hotel_country\"]\n",
        "    df.loc[mask, \"hotel_country\"] = (\n",
        "        df.loc[mask, \"hotel_country\"] - min_value) / (max_value - min_value)\n",
        "\n",
        "    # Retrieve trips info\n",
        "    trips = df.groupby(\"utrip_id\").apply(np.array)\n",
        "    index = trips.groupby(\"utrip_id\").apply(np.array).index\n",
        "\n",
        "    cities_sequences = []\n",
        "    # trip_info = []\n",
        "    lst_indexes = []\n",
        "    not_trip_ids = []\n",
        "    for i, trip in enumerate(trips):\n",
        "        if len(trip) == 1:\n",
        "            # print(trip)\n",
        "            # print(index[i])\n",
        "            not_trip_ids.append(index[i])\n",
        "            # y_test = y_test.loc[y_test.utrip_id != index[i]]\n",
        "            print(\"Not a trip\")\n",
        "            continue\n",
        "        # save index\n",
        "        lst_indexes.append((index[i]))\n",
        "        cities_sequence = trip[:-1, 0]\n",
        "        \n",
        "       \n",
        "\n",
        "        # Save all\n",
        "        cities_sequences.append(cities_sequence)\n",
        "        # trip_info.append(trip_information)\n",
        "    y_test.drop(not_trip_ids, inplace=True)\n",
        "    return cities_sequences, lst_indexes,  # trip_info,\n"
      ]
    },
    {
      "cell_type": "code",
      "execution_count": 81,
      "metadata": {
        "id": "eOFc4sNKqS_w",
        "colab": {
          "base_uri": "https://localhost:8080/"
        },
        "outputId": "f54a173f-8773-4146-f83c-1062fe3fa7fe"
      },
      "outputs": [
        {
          "output_type": "stream",
          "name": "stdout",
          "text": [
            "Not a trip\n",
            "Not a trip\n",
            "Not a trip\n",
            "Not a trip\n",
            "Not a trip\n"
          ]
        }
      ],
      "source": [
        "X_test_cities, index = apply_preprocessing(test_set)\n"
      ]
    },
    {
      "cell_type": "code",
      "execution_count": 82,
      "metadata": {
        "id": "C56BiGcpqS_w"
      },
      "outputs": [],
      "source": [
        "y_test.city_id = encode_cities.transform(y_test.city_id)"
      ]
    },
    {
      "cell_type": "code",
      "execution_count": 83,
      "metadata": {
        "id": "gXVKvyFmqS_w"
      },
      "outputs": [],
      "source": [
        "savez_compressed(path+\"X_test_cities.npz\", X_test_cities)\n",
        "savez_compressed(path+\"X_test_index.npz\", index)\n",
        "savez_compressed(path+\"y_test.npz\", y)"
      ]
    },
    {
      "cell_type": "markdown",
      "source": [
        "Building the LSTM model"
      ],
      "metadata": {
        "id": "or8o6UQzBomk"
      }
    },
    {
      "cell_type": "code",
      "execution_count": 84,
      "metadata": {
        "id": "-nfO1--ZqS_w"
      },
      "outputs": [],
      "source": [
        "from tensorflow.keras.models import Sequential, Model\n",
        "from tensorflow.keras.layers import Dense, Embedding, LSTM, GRU, Input, BatchNormalization\n",
        "from tensorflow.keras.regularizers import L2\n",
        "import tensorflow as tf\n",
        "\n",
        "def create_model(l2=0.0001, embedding_size=100, num_cities=39901, dropout=0.5, recurrent_layer=LSTM, rnn_units=100):\n",
        "    trips_sequences_input = Input(shape=(None,))\n",
        "    reg = L2(l2=l2)\n",
        "\n",
        "    # First cities with Embeddings\n",
        "    emb_layer = Embedding(output_dim=embedding_size, input_dim=num_cities, input_length=None,\n",
        "                          mask_zero=False, name=\"city_embeddings\")\n",
        "\n",
        "    emb_cities = emb_layer(trips_sequences_input)\n",
        "    lstm_cities_1 = recurrent_layer(rnn_units, dropout=dropout, return_sequences=True,\n",
        "                                    kernel_regularizer=reg)(emb_cities)\n",
        "\n",
        "    lstm_cities_2 = recurrent_layer(rnn_units, dropout=dropout, return_sequences=False,\n",
        "                                    kernel_regularizer=reg)(lstm_cities_1)\n",
        "\n",
        "    norm = BatchNormalization()(lstm_cities_2)\n",
        "    output = Dense(num_cities, activation='softmax')(norm)\n",
        "    model = Model(inputs=[trips_sequences_input], outputs=[output])\n",
        "\n",
        "    return model\n"
      ]
    },
    {
      "cell_type": "code",
      "execution_count": 85,
      "metadata": {
        "id": "X0Vc6xnjqS_w"
      },
      "outputs": [],
      "source": [
        "model = create_model(recurrent_layer=LSTM, rnn_units=100, embedding_size=300)\n"
      ]
    },
    {
      "cell_type": "markdown",
      "source": [
        "Displaying the model summary"
      ],
      "metadata": {
        "id": "n0DEXmpm_EaY"
      }
    },
    {
      "cell_type": "code",
      "execution_count": 86,
      "metadata": {
        "id": "d1PmVxr0qS_w",
        "colab": {
          "base_uri": "https://localhost:8080/"
        },
        "outputId": "9f593cd6-af97-4056-f1d8-adc0c0d1c2bc"
      },
      "outputs": [
        {
          "output_type": "stream",
          "name": "stdout",
          "text": [
            "Model: \"model\"\n",
            "_________________________________________________________________\n",
            " Layer (type)                Output Shape              Param #   \n",
            "=================================================================\n",
            " input_1 (InputLayer)        [(None, None)]            0         \n",
            "                                                                 \n",
            " city_embeddings (Embedding)  (None, None, 300)        11970300  \n",
            "                                                                 \n",
            " lstm (LSTM)                 (None, None, 100)         160400    \n",
            "                                                                 \n",
            " lstm_1 (LSTM)               (None, 100)               80400     \n",
            "                                                                 \n",
            " batch_normalization (BatchN  (None, 100)              400       \n",
            " ormalization)                                                   \n",
            "                                                                 \n",
            " dense (Dense)               (None, 39901)             4030001   \n",
            "                                                                 \n",
            "=================================================================\n",
            "Total params: 16,241,501\n",
            "Trainable params: 16,241,301\n",
            "Non-trainable params: 200\n",
            "_________________________________________________________________\n"
          ]
        }
      ],
      "source": [
        "model.summary()"
      ]
    },
    {
      "cell_type": "code",
      "execution_count": 87,
      "metadata": {
        "id": "dyq41JZ7qS_w"
      },
      "outputs": [],
      "source": [
        "def compile_model(model, learning_rate=0.00003):\n",
        "    optimizer = tf.keras.optimizers.Adam(\n",
        "        learning_rate=learning_rate, clipvalue=.25)\n",
        "    model.compile(optimizer=optimizer,\n",
        "                  loss=\"sparse_categorical_crossentropy\",\n",
        "                  metrics=['sparse_top_k_categorical_accuracy'])\n"
      ]
    },
    {
      "cell_type": "code",
      "execution_count": 88,
      "metadata": {
        "id": "EZwMGCOrqS_w"
      },
      "outputs": [],
      "source": [
        "compile_model(model)"
      ]
    },
    {
      "cell_type": "code",
      "execution_count": 89,
      "metadata": {
        "id": "ZrcKWF3ZqS_w"
      },
      "outputs": [],
      "source": [
        "from tensorflow.keras.callbacks import ModelCheckpoint"
      ]
    },
    {
      "cell_type": "code",
      "execution_count": 90,
      "metadata": {
        "id": "Xmy4jjDNqS_w"
      },
      "outputs": [],
      "source": [
        "filepath = path+\"improvement-{epoch:02d}-{val_sparse_top_k_categorical_accuracy:.2f}.hdf5\"\n",
        "checkpoint = ModelCheckpoint(filepath, monitor='val_sparse_top_k_categorical_accuracy', verbose=1, save_best_only=True, mode='max')\n",
        "early_stop = tf.keras.callbacks.EarlyStopping(monitor='val_loss', patience=2)\n",
        "callbacks_list = [checkpoint, early_stop]"
      ]
    },
    {
      "cell_type": "code",
      "execution_count": 91,
      "metadata": {
        "id": "rjVvkHkWqS_w"
      },
      "outputs": [],
      "source": [
        "from numpy import savez_compressed, load\n",
        "import random\n",
        "\n",
        "\n",
        "def getData(filename1, filename3, batch_size=512):\n",
        "    # initiate a batch count for each size of trips\n",
        "    batch_count = {k: 0 for k in range(50)}\n",
        "    inputs = {k: [] for k in range(50)}\n",
        "    targets = {k: [] for k in range(50)}\n",
        "    while True:\n",
        "        # load files\n",
        "        trip_sequences = load(filename1, allow_pickle=True)[\"arr_0\"]\n",
        "        predictions = load(filename3, allow_pickle=True)[\"arr_0\"]\n",
        "\n",
        "        predictions = np.array(predictions, dtype=\"int32\")\n",
        "\n",
        "        for i in range(len(trip_sequences)):\n",
        "\n",
        "            # consider trip i\n",
        "            trip_sequence = trip_sequences[i]\n",
        "            prediction = predictions[i]\n",
        "            len_trip = len(trip_sequence)\n",
        "\n",
        "            # add info to corresponding  size\n",
        "            inputs[len_trip].append([trip_sequence])\n",
        "            targets[len_trip].append(prediction)\n",
        "            batch_count[len_trip] += 1\n",
        "\n",
        "            if batch_count[len_trip] == batch_size:\n",
        "                X_trip = np.array([t[0]\n",
        "                                  for t in inputs[len_trip]], dtype='float32')\n",
        "                y = np.array(targets[len_trip]).reshape(batch_size,)\n",
        "                # yield the data to feed the\n",
        "                yield X_trip, y\n",
        "                inputs[len_trip] = []\n",
        "                targets[len_trip] = []\n",
        "                batch_count[len_trip] = 0\n"
      ]
    },
    {
      "cell_type": "code",
      "execution_count": 99,
      "metadata": {
        "id": "BDxy4tAMqS_x"
      },
      "outputs": [],
      "source": [
        "batch_size = 256\n",
        "train_generator = getData(path+\"X_train_cities.npz\", path+\"y_train.npz\", batch_size=batch_size)\n",
        "val_generator = getData(path+\"X_val_cities.npz\", path+\"y_val.npz\", batch_size=batch_size)\n"
      ]
    },
    {
      "cell_type": "markdown",
      "source": [
        "Training the model and saving the history"
      ],
      "metadata": {
        "id": "bH4-TJp2B1ly"
      }
    },
    {
      "cell_type": "code",
      "execution_count": 104,
      "metadata": {
        "id": "hUisehD2qS_x",
        "outputId": "36ee6753-6601-4118-e339-3ce3fd9ff3c6",
        "colab": {
          "base_uri": "https://localhost:8080/"
        }
      },
      "outputs": [
        {
          "output_type": "stream",
          "name": "stdout",
          "text": [
            "\n",
            "Beginning model training\n",
            "---------------\n",
            "\n",
            "Epoch 1/60\n",
            "3698/3699 [============================>.] - ETA: 0s - loss: 3.9953 - sparse_top_k_categorical_accuracy: 0.4917\n",
            "Epoch 1: val_sparse_top_k_categorical_accuracy improved from 0.42880 to 0.43012, saving model to /content/drive/MyDrive/Booking.com_Challengeimprovement-01-0.43.hdf5\n",
            "3699/3699 [==============================] - 80s 21ms/step - loss: 3.9952 - sparse_top_k_categorical_accuracy: 0.4917 - val_loss: 4.8293 - val_sparse_top_k_categorical_accuracy: 0.4301\n",
            "Epoch 2/60\n",
            "3698/3699 [============================>.] - ETA: 0s - loss: 3.8976 - sparse_top_k_categorical_accuracy: 0.5004\n",
            "Epoch 2: val_sparse_top_k_categorical_accuracy improved from 0.43012 to 0.43164, saving model to /content/drive/MyDrive/Booking.com_Challengeimprovement-02-0.43.hdf5\n",
            "3699/3699 [==============================] - 77s 21ms/step - loss: 3.8978 - sparse_top_k_categorical_accuracy: 0.5003 - val_loss: 4.8211 - val_sparse_top_k_categorical_accuracy: 0.4316\n",
            "Epoch 3/60\n",
            "3697/3699 [============================>.] - ETA: 0s - loss: 3.8461 - sparse_top_k_categorical_accuracy: 0.5046\n",
            "Epoch 3: val_sparse_top_k_categorical_accuracy improved from 0.43164 to 0.43244, saving model to /content/drive/MyDrive/Booking.com_Challengeimprovement-03-0.43.hdf5\n",
            "3699/3699 [==============================] - 75s 20ms/step - loss: 3.8461 - sparse_top_k_categorical_accuracy: 0.5045 - val_loss: 4.8185 - val_sparse_top_k_categorical_accuracy: 0.4324\n",
            "Epoch 4/60\n",
            "3699/3699 [==============================] - ETA: 0s - loss: 3.8006 - sparse_top_k_categorical_accuracy: 0.5099\n",
            "Epoch 4: val_sparse_top_k_categorical_accuracy did not improve from 0.43244\n",
            "3699/3699 [==============================] - 76s 21ms/step - loss: 3.8006 - sparse_top_k_categorical_accuracy: 0.5099 - val_loss: 4.8216 - val_sparse_top_k_categorical_accuracy: 0.4323\n",
            "Epoch 5/60\n",
            "3699/3699 [==============================] - ETA: 0s - loss: 3.7622 - sparse_top_k_categorical_accuracy: 0.5144\n",
            "Epoch 5: val_sparse_top_k_categorical_accuracy improved from 0.43244 to 0.43364, saving model to /content/drive/MyDrive/Booking.com_Challengeimprovement-05-0.43.hdf5\n",
            "3699/3699 [==============================] - 75s 20ms/step - loss: 3.7622 - sparse_top_k_categorical_accuracy: 0.5144 - val_loss: 4.8250 - val_sparse_top_k_categorical_accuracy: 0.4336\n"
          ]
        },
        {
          "output_type": "stream",
          "name": "stderr",
          "text": [
            "WARNING:absl:Found untraced functions such as lstm_cell_6_layer_call_fn, lstm_cell_6_layer_call_and_return_conditional_losses, lstm_cell_7_layer_call_fn, lstm_cell_7_layer_call_and_return_conditional_losses while saving (showing 4 of 4). These functions will not be directly callable after loading.\n"
          ]
        }
      ],
      "source": [
        "import os\n",
        "num_train_samples = len(X_train_cities)\n",
        "num_val_samples = len(X_val_cities)\n",
        "n_epochs = 60\n",
        "training_performance = []\n",
        "\n",
        "\n",
        "def train_model():\n",
        "  print(f\"\\nBeginning model training\\n---------------\\n\")\n",
        "  history = model.fit(train_generator,\n",
        "                      steps_per_epoch=num_train_samples // batch_size,\n",
        "                      epochs=n_epochs,\n",
        "                      validation_data=val_generator,\n",
        "                      validation_steps=num_val_samples // batch_size,\n",
        "                      batch_size=batch_size,\n",
        "                      callbacks=callbacks_list)\n",
        "\n",
        "  training_performance.append(history)\n",
        "  model.save(path+\"my_model_LSTM\")\n",
        "  return history \n",
        "\n",
        "# if os.path.isdir(path+\"my_model_LSTM\"):\n",
        "#   print('loaded model!')\n",
        "#   model = tf.keras.models.load_model(path+\"my_model_LSTM\")\n",
        "# else:\n",
        "#   history = train_model()\n",
        "\n",
        "history = train_model()"
      ]
    },
    {
      "cell_type": "code",
      "source": [
        "test_generator = getData(path+\"X_test_cities.npz\", path+\"y_test.npz\", batch_size=batch_size)"
      ],
      "metadata": {
        "id": "6NWcmwzFJ7rf"
      },
      "execution_count": 94,
      "outputs": []
    },
    {
      "cell_type": "markdown",
      "source": [
        "1. ecoded_cities contains mapping of true value to encoded values.\n",
        "the prediction function returns the encoded value\n",
        "2. passing the encoded city to encoded_cities returns the true city value for the provided encoded city\n",
        "3. city_to_country contains mapping of city to their country.\n"
      ],
      "metadata": {
        "id": "YAvra6X8QUgW"
      }
    },
    {
      "cell_type": "code",
      "source": [
        "# summarize history for accuracy\n",
        "plt.plot(history.history['sparse_top_k_categorical_accuracy'])\n",
        "plt.plot(history.history['val_sparse_top_k_categorical_accuracy'])\n",
        "plt.title('model accuracy')\n",
        "plt.ylabel('accuracy')\n",
        "plt.xlabel('epoch')\n",
        "plt.legend(['train', 'test'], loc='upper left')\n",
        "plt.show()\n",
        "\n"
      ],
      "metadata": {
        "colab": {
          "base_uri": "https://localhost:8080/",
          "height": 295
        },
        "id": "dD58Ywjgp2WX",
        "outputId": "86c50607-9119-4a67-82de-b145f0a3afe8"
      },
      "execution_count": 106,
      "outputs": [
        {
          "output_type": "display_data",
          "data": {
            "text/plain": [
              "<Figure size 432x288 with 1 Axes>"
            ],
            "image/png": "[encoded data removed]"
          },
          "metadata": {
            "needs_background": "light"
          }
        }
      ]
    },
    {
      "cell_type": "code",
      "source": [
        "# summarize history for loss\n",
        "plt.plot(history.history['loss'])\n",
        "plt.plot(history.history['val_loss'])\n",
        "plt.title('model loss')\n",
        "plt.ylabel('loss')\n",
        "plt.xlabel('epoch')\n",
        "plt.legend(['train', 'test'], loc='upper left')\n",
        "plt.show()"
      ],
      "metadata": {
        "colab": {
          "base_uri": "https://localhost:8080/",
          "height": 295
        },
        "id": "LcgAUbGSkPV1",
        "outputId": "ec1a1372-6081-4053-992d-dfe57a0cb21c"
      },
      "execution_count": 105,
      "outputs": [
        {
          "output_type": "display_data",
          "data": {
            "text/plain": [
              "<Figure size 432x288 with 1 Axes>"
            ],
            "image/png": "[encoded data removed]"
          },
          "metadata": {
            "needs_background": "light"
          }
        }
      ]
    },
    {
      "cell_type": "code",
      "source": [
        "# LSTM Recommedation_1\n",
        "ans = model.predict([[37849.0,37741.0, 37682.0]])\n",
        "cities_temp = encode_cities.classes_\n",
        "l = cities_temp[np.argmax(ans[0])]\n",
        "\n",
        "print ('input', 64020, 63825, 63724)\n",
        "print('output', cities_temp[int(i)], 'country', city_to_country[l],)\n"
      ],
      "metadata": {
        "colab": {
          "base_uri": "https://localhost:8080/"
        },
        "id": "rYthmEsn9Ijg",
        "outputId": "3466ced1-3ecb-4a57-a3a1-2937eb110315"
      },
      "execution_count": 107,
      "outputs": [
        {
          "output_type": "stream",
          "name": "stdout",
          "text": [
            "1/1 [==============================] - 1s 638ms/step\n",
            "input 64020 63825 63724\n",
            "output 6 country Gondal\n"
          ]
        }
      ]
    },
    {
      "cell_type": "code",
      "source": [
        "# LSTM Recommendation_2\n",
        "ans = model.predict([[5052.0, 37745.0, 24234.0]])\n",
        "cities_temp = encode_cities.classes_\n",
        "l = cities_temp[np.argmax(ans[0])]\n",
        "\n",
        "print ('input', 5052, 37745, 24234)\n",
        "print('output', cities_temp[int(i)], 'country', city_to_country[l],)\n"
      ],
      "metadata": {
        "colab": {
          "base_uri": "https://localhost:8080/"
        },
        "id": "f0nFslXnXBCk",
        "outputId": "f8fa14ad-09ba-4991-eb1f-abf110db900d"
      },
      "execution_count": 108,
      "outputs": [
        {
          "output_type": "stream",
          "name": "stdout",
          "text": [
            "1/1 [==============================] - 0s 25ms/step\n",
            "input 5052 37745 24234\n",
            "output 6 country Santa Prisca\n"
          ]
        }
      ]
    },
    {
      "cell_type": "code",
      "source": [
        "# input_cities = [5052., 37745., 24234.]\n",
        "# # print(cities_temp.isin(input_cities))\n",
        "# ans = model.predict([input_cities])\n",
        "# cities_temp = encode_cities.classes_\n",
        "# l = cities_temp[np.argmax(ans[0])]\n",
        "\n",
        "\n",
        "# input_cities_unencoded = []\n",
        "# for i in input_cities:\n",
        "#   input_cities_unencoded.append(cities_temp[int(i)])\n",
        "\n",
        "# print ('input', input_cities_unencoded)\n",
        "# print('output', cities_temp[int(l)], 'country', city_to_country[l],)\n"
      ],
      "metadata": {
        "id": "ElyMA6U_GRxE"
      },
      "execution_count": 97,
      "outputs": []
    },
    {
      "cell_type": "markdown",
      "source": [
        "Experimenting the model for 100 epochs "
      ],
      "metadata": {
        "id": "VKveV_ArB9L7"
      }
    },
    {
      "cell_type": "code",
      "source": [
        "import os\n",
        "num_train_samples = len(X_train_cities)\n",
        "num_val_samples = len(X_val_cities)\n",
        "n_epochs = 100\n",
        "training_performance = []\n",
        "\n",
        "\n",
        "def train_model():\n",
        "  print(f\"\\nBeginning model training\\n---------------\\n\")\n",
        "  history = model.fit(train_generator,\n",
        "                      steps_per_epoch=num_train_samples // batch_size,\n",
        "                      epochs=n_epochs,\n",
        "                      validation_data=val_generator,\n",
        "                      validation_steps=num_val_samples // batch_size,\n",
        "                      batch_size=batch_size,\n",
        "                      callbacks=callbacks_list)\n",
        "\n",
        "  training_performance.append(history)\n",
        "  model.save(path+\"my_model_LSTM\")\n",
        "  return history \n",
        "history = train_model()"
      ],
      "metadata": {
        "colab": {
          "base_uri": "https://localhost:8080/"
        },
        "id": "BABUixKZqKlS",
        "outputId": "76db0adf-afcd-4fa3-d33e-0ec59d0d7385"
      },
      "execution_count": 109,
      "outputs": [
        {
          "output_type": "stream",
          "name": "stdout",
          "text": [
            "\n",
            "Beginning model training\n",
            "---------------\n",
            "\n",
            "Epoch 1/100\n",
            "3699/3699 [==============================] - ETA: 0s - loss: 3.7255 - sparse_top_k_categorical_accuracy: 0.5193\n",
            "Epoch 1: val_sparse_top_k_categorical_accuracy improved from 0.43364 to 0.43431, saving model to /content/drive/MyDrive/Booking.com_Challengeimprovement-01-0.43.hdf5\n",
            "3699/3699 [==============================] - 79s 21ms/step - loss: 3.7255 - sparse_top_k_categorical_accuracy: 0.5193 - val_loss: 4.8292 - val_sparse_top_k_categorical_accuracy: 0.4343\n",
            "Epoch 2/100\n",
            "3699/3699 [==============================] - ETA: 0s - loss: 3.6946 - sparse_top_k_categorical_accuracy: 0.5230\n",
            "Epoch 2: val_sparse_top_k_categorical_accuracy improved from 0.43431 to 0.43505, saving model to /content/drive/MyDrive/Booking.com_Challengeimprovement-02-0.44.hdf5\n",
            "3699/3699 [==============================] - 80s 22ms/step - loss: 3.6946 - sparse_top_k_categorical_accuracy: 0.5230 - val_loss: 4.8370 - val_sparse_top_k_categorical_accuracy: 0.4350\n",
            "Epoch 3/100\n",
            "3697/3699 [============================>.] - ETA: 0s - loss: 3.6630 - sparse_top_k_categorical_accuracy: 0.5274\n",
            "Epoch 3: val_sparse_top_k_categorical_accuracy did not improve from 0.43505\n",
            "3699/3699 [==============================] - 77s 21ms/step - loss: 3.6625 - sparse_top_k_categorical_accuracy: 0.5275 - val_loss: 4.8504 - val_sparse_top_k_categorical_accuracy: 0.4345\n"
          ]
        },
        {
          "output_type": "stream",
          "name": "stderr",
          "text": [
            "WARNING:absl:Found untraced functions such as lstm_cell_6_layer_call_fn, lstm_cell_6_layer_call_and_return_conditional_losses, lstm_cell_7_layer_call_fn, lstm_cell_7_layer_call_and_return_conditional_losses while saving (showing 4 of 4). These functions will not be directly callable after loading.\n"
          ]
        }
      ]
    },
    {
      "cell_type": "markdown",
      "source": [
        "Since the model saves the best results at difefrent epochs it displays the best reuslts.\n",
        "\n"
      ],
      "metadata": {
        "id": "r8xdrMOFCEjg"
      }
    },
    {
      "cell_type": "code",
      "source": [
        "test_generator = getData(path+\"X_test_cities.npz\", path+\"y_test.npz\", batch_size=batch_size)"
      ],
      "metadata": {
        "id": "dLCxe9miqYCe"
      },
      "execution_count": 110,
      "outputs": []
    },
    {
      "cell_type": "code",
      "source": [
        "# summarize history for accuracy\n",
        "plt.plot(history.history['sparse_top_k_categorical_accuracy'])\n",
        "plt.plot(history.history['val_sparse_top_k_categorical_accuracy'])\n",
        "plt.title('model accuracy')\n",
        "plt.ylabel('accuracy')\n",
        "plt.xlabel('epoch')\n",
        "plt.legend(['train', 'test'], loc='upper left')\n",
        "plt.show()"
      ],
      "metadata": {
        "colab": {
          "base_uri": "https://localhost:8080/",
          "height": 295
        },
        "id": "0sjK4bm6qZ1D",
        "outputId": "f7ad54a2-954e-428a-cfc4-26cd903e6ebb"
      },
      "execution_count": 111,
      "outputs": [
        {
          "output_type": "display_data",
          "data": {
            "text/plain": [
              "<Figure size 432x288 with 1 Axes>"
            ],
            "image/png": "[encoded data removed]"
          },
          "metadata": {
            "needs_background": "light"
          }
        }
      ]
    },
    {
      "cell_type": "code",
      "source": [
        "# summarize history for loss\n",
        "plt.plot(history.history['loss'])\n",
        "plt.plot(history.history['val_loss'])\n",
        "plt.title('model loss')\n",
        "plt.ylabel('loss')\n",
        "plt.xlabel('epoch')\n",
        "plt.legend(['train', 'test'], loc='upper left')\n",
        "plt.show()"
      ],
      "metadata": {
        "colab": {
          "base_uri": "https://localhost:8080/",
          "height": 295
        },
        "id": "vzu2HsP1qbWa",
        "outputId": "253431ba-c4d4-418b-d583-30e48d3a9e35"
      },
      "execution_count": 112,
      "outputs": [
        {
          "output_type": "display_data",
          "data": {
            "text/plain": [
              "<Figure size 432x288 with 1 Axes>"
            ],
            "image/png": "[encoded data removed]"
          },
          "metadata": {
            "needs_background": "light"
          }
        }
      ]
    },
    {
      "cell_type": "markdown",
      "source": [
        "1. The best results achieved are after experimenting with 50,60 and 100 epochs are:\n",
        "loss: 3.6625 - sparse_top_k_categorical_accuracy: 0.5275 - val_loss: 4.8504 - val_sparse_top_k_categorical_accuracy: 0.4345\n",
        "2. We have to train the model for higher number of epochs and tune the parameters to decrease the loss. This would require high resource usage to computation which can be part of our future work. \n",
        "\n",
        "References:\n",
        "1. https://machinelearningmastery.com/display-deep-learning-model-training-history-in-keras/\n",
        "2. https://github.com/harshithar416/Multi-destination-Trip-booking-Booking.com_challenge\n",
        "3. https://github.com/MauroDNapoli/booking-challenge\n",
        "4. https://github.com/DorBernsohn/Booking-Challenge\n",
        "5. https://github.com/clementmg/Booking.com-Challenge/blob/main/7%20-%20Predicts%20submissions.ipynb\n",
        "7. https://github.com/bookingcom/ml-dataset-mdt/blob/main/evaluation_demo.ipynb\n",
        "8.  https://github.com/NVIDIA-Merlin/competitions/tree/main/WSDM_WebTour2021_Challenge\n",
        "9. https://github.com/eliorc/bookingchallenge2020\n",
        " \n"
      ],
      "metadata": {
        "id": "j5L7nFU_8dhT"
      }
    }
  ],
  "metadata": {
    "accelerator": "GPU",
    "colab": {
      "provenance": []
    },
    "gpuClass": "standard",
    "kernelspec": {
      "display_name": "Python 3.8.13 ('dev_env')",
      "language": "python",
      "name": "python3"
    },
    "language_info": {
      "codemirror_mode": {
        "name": "ipython",
        "version": 3
      },
      "file_extension": ".py",
      "mimetype": "text/x-python",
      "name": "python",
      "nbconvert_exporter": "python",
      "pygments_lexer": "ipython3",
      "version": "3.8.13"
    },
    "vscode": {
      "interpreter": {
        "hash": "b0e8b7308ae662ff8cab14deed4ae0326cf8064a907b2eaeae9b1d944f50691e"
      }
    }
  },
  "nbformat": 4,
  "nbformat_minor": 0
}